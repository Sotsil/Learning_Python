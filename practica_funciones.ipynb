{
  "nbformat": 4,
  "nbformat_minor": 0,
  "metadata": {
    "colab": {
      "name": "practica_funciones.ipynb",
      "provenance": [],
      "collapsed_sections": [],
      "authorship_tag": "ABX9TyMyx8OW3frGyPoNmtx+mFi2",
      "include_colab_link": true
    },
    "kernelspec": {
      "name": "python3",
      "display_name": "Python 3"
    },
    "language_info": {
      "name": "python"
    }
  },
  "cells": [
    {
      "cell_type": "markdown",
      "metadata": {
        "id": "view-in-github",
        "colab_type": "text"
      },
      "source": [
        "<a href=\"https://colab.research.google.com/github/Sotsil/prueba2/blob/main/practica_funciones.ipynb\" target=\"_parent\"><img src=\"https://colab.research.google.com/assets/colab-badge.svg\" alt=\"Open In Colab\"/></a>"
      ]
    },
    {
      "cell_type": "code",
      "execution_count": null,
      "metadata": {
        "colab": {
          "base_uri": "https://localhost:8080/"
        },
        "id": "hHb2Q64QXHfF",
        "outputId": "c62c35a2-33e6-470b-8b69-811ffa28e410"
      },
      "outputs": [
        {
          "output_type": "stream",
          "name": "stdout",
          "text": [
            "Hola amiga\n"
          ]
        }
      ],
      "source": [
        "#Escribir una función que muestre por pantalla el saludo ¡Hola amiga! cada vez que se la invoque.\n",
        "def saludo():\n",
        "  print(\"Hola amiga\")\n",
        "\n",
        "saludo() "
      ]
    },
    {
      "cell_type": "code",
      "source": [
        "#Escribir una función a la que se le pase una cadena <nombre> y muestre por pantalla el saludo ¡hola <nombre>!.\n",
        "def Hola(Nombre):\n",
        "  print(\"¡Hola \",Nombre,\"!\")\n",
        "\n",
        "Nombre = input(\"Escribe tu nombre: \")\n",
        "Hola(Nombre)"
      ],
      "metadata": {
        "colab": {
          "base_uri": "https://localhost:8080/"
        },
        "id": "GBJTs7JlXz88",
        "outputId": "22777032-7f25-4115-afd0-afdedf3d30e1"
      },
      "execution_count": null,
      "outputs": [
        {
          "output_type": "stream",
          "name": "stdout",
          "text": [
            "Escribe tu nombre: juan\n",
            "¡Hola  juan !\n"
          ]
        }
      ]
    },
    {
      "cell_type": "code",
      "source": [
        "#Escribir una función que reciba un número entero positivo y devuelva su factorial.\n",
        "def factorial(num):\n",
        "  fact = 1\n",
        "  while(num > 1): \n",
        "    fact *= num \n",
        "    num -= 1\n",
        "  return fact\n",
        "\n",
        "numero = int(input(\"escribe un número: \"))\n",
        "print(\"El factorial de \",numero,\"es\", factorial(numero))\n"
      ],
      "metadata": {
        "colab": {
          "base_uri": "https://localhost:8080/"
        },
        "id": "Yvi_gK3SY-SC",
        "outputId": "ce5e82b7-658f-446e-e57c-1993d432c965"
      },
      "execution_count": null,
      "outputs": [
        {
          "output_type": "stream",
          "name": "stdout",
          "text": [
            "escribe un número: 5\n",
            "El factorial de  5 es 120\n"
          ]
        }
      ]
    },
    {
      "cell_type": "code",
      "source": [
        "#Escribir una función que calcule el total de una factura tras aplicarle el IVA. \n",
        "#La función debe recibir la cantidad sin IVA y el porcentaje de IVA a aplicar, y devolver \n",
        "#el total de la factura. Si se invoca la función sin pasarle el porcentaje de IVA, deberá aplicar un 21%.\n",
        "def factura_iva(monto,iva):\n",
        "  if iva > 0:\n",
        "    cantidad= monto+(monto*(iva/100))\n",
        "    return cantidad\n",
        "  elif iva == 0:\n",
        "    cantidad= monto+(monto*0.21)\n",
        "    return cantidad\n",
        "    \n",
        "cantidad = int(input(\"Cual es el monto de la factura?: \"))\n",
        "iva = int(input(\"cual es el iva? \"))\n",
        "print(\"el total de la factura es: \",factura_iva(cantidad,iva))\n"
      ],
      "metadata": {
        "colab": {
          "base_uri": "https://localhost:8080/"
        },
        "id": "GlNh_KISatgA",
        "outputId": "70a09de8-1eec-4bcd-8d24-0c43e0f4177d"
      },
      "execution_count": null,
      "outputs": [
        {
          "output_type": "stream",
          "name": "stdout",
          "text": [
            "Cual es el monto de la factura?: 1000\n",
            "cual es el iva? 0\n",
            "el total de la factura es:  1210.0\n"
          ]
        }
      ]
    },
    {
      "cell_type": "code",
      "source": [
        "#Escribir una función que calcule el área de un círculo y otra que calcule el volumen de un cilindro usando la primera función.\n",
        "def area(radio):\n",
        "  a= 3.14*(pow(radio,2))\n",
        "  return a\n",
        "\n",
        "def vol_cil(altura,radio):\n",
        "  A=area(radio)\n",
        "  vol = altura*A\n",
        "  print(\"el volumen es: \",vol, \"el area de la base es: \",A)\n",
        "\n",
        "\n",
        "vol_cil(4.1, 1.8)"
      ],
      "metadata": {
        "colab": {
          "base_uri": "https://localhost:8080/"
        },
        "id": "emGOP0fnh0-x",
        "outputId": "7807c1f6-2fb6-4bc1-afaa-f89673982e97"
      },
      "execution_count": null,
      "outputs": [
        {
          "output_type": "stream",
          "name": "stdout",
          "text": [
            "el volumen es:  41.71176 el area de la base es:  10.1736\n"
          ]
        }
      ]
    },
    {
      "cell_type": "code",
      "source": [
        "#Escribir una función que reciba una muestra de números en una lista y devuelva su media.\n",
        "def media(muestra):\n",
        "  media= sum(muestra)/len(muestra)\n",
        "  print(\"la media es: \",media)\n",
        "\n",
        "muestra=[]\n",
        "sel = True\n",
        "while sel != \"t\":\n",
        "  sel = input(\"escribe 'c' para introducir un numero o 't' para terminar: \")\n",
        "  if sel == \"c\":\n",
        "    numero = int(input(\"Escribe un numero: \"))\n",
        "    muestra.append(numero)\n",
        "\n",
        "media(muestra)\n"
      ],
      "metadata": {
        "id": "d0ZQ8H8HldTu",
        "colab": {
          "base_uri": "https://localhost:8080/"
        },
        "outputId": "25cfda49-1df5-44f4-8b99-556707550cf3"
      },
      "execution_count": null,
      "outputs": [
        {
          "output_type": "stream",
          "name": "stdout",
          "text": [
            "escribe 'c' para introducir un numero o 't' para terminar: c\n",
            "Escribe un numero: 5\n",
            "escribe 'c' para introducir un numero o 't' para terminar: c\n",
            "Escribe un numero: 10\n",
            "escribe 'c' para introducir un numero o 't' para terminar: c\n",
            "Escribe un numero: 0\n",
            "escribe 'c' para introducir un numero o 't' para terminar: t\n",
            "la media es:  5.0\n"
          ]
        }
      ]
    },
    {
      "cell_type": "code",
      "source": [
        "#Escribir una función que reciba una muestra de números en una lista y devuelva otra lista con sus cuadrados.\n",
        "def cuadrados(lista):\n",
        "  return lista**2\n",
        "\n",
        "arreglo=[]\n",
        "sel = True\n",
        "while sel != \"t\":\n",
        "  sel = input(\"escribe 'c' para introducir un numero o 't' para terminar: \")\n",
        "  if sel == \"c\":\n",
        "    numero = int(input(\"Escribe un numero: \"))\n",
        "    arreglo.append(numero)\n",
        "\n",
        "list(map(cuadrados, arreglo))\n"
      ],
      "metadata": {
        "colab": {
          "base_uri": "https://localhost:8080/"
        },
        "id": "TifckM2mnF0Q",
        "outputId": "6a0fd536-f921-403e-a07a-8a3317362d53"
      },
      "execution_count": null,
      "outputs": [
        {
          "name": "stdout",
          "output_type": "stream",
          "text": [
            "escribe 'c' para introducir un numero o 't' para terminar: c\n",
            "Escribe un numero: 2\n",
            "escribe 'c' para introducir un numero o 't' para terminar: c\n",
            "Escribe un numero: 4\n",
            "escribe 'c' para introducir un numero o 't' para terminar: c\n",
            "Escribe un numero: 6\n",
            "escribe 'c' para introducir un numero o 't' para terminar: t\n"
          ]
        },
        {
          "output_type": "execute_result",
          "data": {
            "text/plain": [
              "[4, 16, 36]"
            ]
          },
          "metadata": {},
          "execution_count": 12
        }
      ]
    },
    {
      "cell_type": "code",
      "source": [
        "#aqui no se define funcion porque se usa lambda\n",
        "arreglo=[]\n",
        "sel = True\n",
        "while sel != \"t\":\n",
        "  sel = input(\"escribe 'c' para introducir un numero o 't' para terminar: \")\n",
        "  if sel == \"c\":\n",
        "    numero = int(input(\"Escribe un numero: \"))\n",
        "    arreglo.append(numero)\n",
        "list(map(lambda x: x**2, arreglo))"
      ],
      "metadata": {
        "colab": {
          "base_uri": "https://localhost:8080/"
        },
        "id": "qLCoMCigsOFG",
        "outputId": "e7a95695-64ae-4b47-e2d7-51e30b806fcc"
      },
      "execution_count": null,
      "outputs": [
        {
          "name": "stdout",
          "output_type": "stream",
          "text": [
            "escribe 'c' para introducir un numero o 't' para terminar: c\n",
            "Escribe un numero: 2\n",
            "escribe 'c' para introducir un numero o 't' para terminar: c\n",
            "Escribe un numero: 4\n",
            "escribe 'c' para introducir un numero o 't' para terminar: c\n",
            "Escribe un numero: 6\n",
            "escribe 'c' para introducir un numero o 't' para terminar: t\n"
          ]
        },
        {
          "output_type": "execute_result",
          "data": {
            "text/plain": [
              "[4, 16, 36]"
            ]
          },
          "metadata": {},
          "execution_count": 13
        }
      ]
    },
    {
      "cell_type": "code",
      "source": [
        "#Escribir una función que reciba una muestra de números en una lista y devuelva un diccionario con su media, varianza y desviación típica.\n",
        "\n",
        "def estadisticas(muestra):\n",
        "  media= (sum(muestra))/len(muestra)\n",
        "  potencias = list(map(lambda x: pow((x-media),2), muestra) )\n",
        "  sum_pot = (sum(potencias)/len(muestra))\n",
        "  #usamos pow para sacar raiz cuadrada\n",
        "  Des_tip = pow(sum_pot,0.5)\n",
        "  Des_tip = round(Des_tip,2)\n",
        "  results={\"Varianza\":sum_pot,\n",
        "           \"Desviación típica\":Des_tip,\n",
        "           \"Media\":media\n",
        "           }\n",
        "  #print(\"la varianza es: \",sum_pot)\n",
        "  #print(\"la desviación tipica es = \",\"{:.2f}\".format(Des_tip))\n",
        "  #print(\"la media es = \",media)\n",
        "  print(results)\n",
        "\n",
        "\n",
        "muestra = input(\"Introduce una muestra de números separados por comas: \")\n",
        "muestra = muestra.split(',')\n",
        "n = len(muestra)\n",
        "for i in range(n):\n",
        "    muestra[i] = int(muestra[i])\n",
        "muestra = list(muestra)\n",
        "\n",
        "estadisticas(muestra)\n",
        "\n",
        "\n"
      ],
      "metadata": {
        "id": "rYgaaiZbvvAq",
        "colab": {
          "base_uri": "https://localhost:8080/"
        },
        "outputId": "3f6925a1-f3b5-45fb-adf9-ec431c78c11e"
      },
      "execution_count": null,
      "outputs": [
        {
          "output_type": "stream",
          "name": "stdout",
          "text": [
            "Introduce una muestra de números separados por comas: 9,3,8,8,9,8,9,18\n",
            "{'Varianza': 15.0, 'Desviación típica': 3.87, 'Media': 9.0}\n"
          ]
        }
      ]
    },
    {
      "cell_type": "code",
      "source": [
        "#Escribir una función que calcule el máximo común divisor de dos números y otra que calcule el mínimo común múltiplo.\n",
        "#aqui se calculan con una sola funcion\n",
        "def MCDmcm (numeros):\n",
        "  lim = max(numeros)\n",
        "  for i in range(lim,2,-1):\n",
        "    if numeros[0] % i == 0 and numeros[1] % i == 0:\n",
        "      MCD = i\n",
        "      mcm = (numeros[0]*numeros[1])/MCD\n",
        "      break\n",
        "  print(\"El maximo comun divisor es: \",MCD,\"El minimo comun multilplo es: \",mcm)\n",
        "\n",
        "numeros = input(\"Introduce dos numeros separados por comas: \")\n",
        "numeros = numeros.split(\",\")\n",
        "for i in range(len(numeros)):\n",
        "  numeros[i]=int(numeros[i])\n",
        "numeros = list(numeros)\n",
        "\n",
        "MCDmcm(numeros)\n",
        "\n"
      ],
      "metadata": {
        "id": "mEqLesjkOBgf",
        "colab": {
          "base_uri": "https://localhost:8080/"
        },
        "outputId": "cfefc5d9-9209-4202-ec20-406f5796b0c3"
      },
      "execution_count": null,
      "outputs": [
        {
          "output_type": "stream",
          "name": "stdout",
          "text": [
            "Introduce dos numeros separados por comas: 12,18\n",
            "El maximo comun divisor es:  6 El minimo comun multilplo es:  36.0\n"
          ]
        }
      ]
    },
    {
      "cell_type": "code",
      "source": [
        "#Escribir una función que calcule el máximo común divisor de dos números y otra que calcule el mínimo común múltiplo.\n",
        "#aqui se calculan con dos funciones\n",
        "\n",
        "def MCD (numeros):\n",
        "  lim = min(numeros)\n",
        "  for i in range(lim,2,-1):\n",
        "    if numeros[0] % i == 0 and numeros[1] % i == 0:\n",
        "      MCD = i\n",
        "      break\n",
        "  return MCD\n",
        "\n",
        "def mcm (numeros):\n",
        "  MCD2 = MCD(numeros)\n",
        "  mcm = (numeros[0]*numeros[1])/MCD2\n",
        "  print(\"El maximo comun divisor es: \",MCD2,\"El minimo comun multilplo es: \",mcm)\n",
        "\n",
        "numeros = input(\"Introduce dos numeros separados por comas: \")\n",
        "numeros = numeros.split(\",\")\n",
        "for i in range(len(numeros)):\n",
        "  numeros[i]=int(numeros[i])\n",
        "numeros = list(numeros)\n",
        "\n",
        "mcm(numeros)\n",
        "\n"
      ],
      "metadata": {
        "colab": {
          "base_uri": "https://localhost:8080/"
        },
        "id": "zAnBgbfogEOh",
        "outputId": "b3c3fe7b-b030-4a02-c23f-987a65caac85"
      },
      "execution_count": null,
      "outputs": [
        {
          "output_type": "stream",
          "name": "stdout",
          "text": [
            "Introduce dos numeros separados por comas: 35,15\n",
            "El maximo comun divisor es:  5 El minimo comun multilplo es:  105.0\n"
          ]
        }
      ]
    },
    {
      "cell_type": "code",
      "source": [
        "#Escribir una función que convierta un número decimal en binario y otra que convierta un número binario en decimal\n",
        "#def binario (decimal):\n",
        "i=50\n",
        "bin=[]\n",
        "while i >= 1:\n",
        "  res = i%2\n",
        "  i = i//2\n",
        "  bin.append(res)\n",
        "bin.reverse()\n",
        "print(bin)\n",
        "\n",
        "  \n",
        "\n",
        "\n",
        "\n",
        "\n"
      ],
      "metadata": {
        "id": "3a1bETiPneVb",
        "colab": {
          "base_uri": "https://localhost:8080/"
        },
        "outputId": "83cc9544-9770-4de7-aa80-42ce82d5cc5c"
      },
      "execution_count": null,
      "outputs": [
        {
          "output_type": "stream",
          "name": "stdout",
          "text": [
            "[1, 1, 0, 0, 1, 0]\n"
          ]
        }
      ]
    },
    {
      "cell_type": "code",
      "source": [
        "#def decimal (binario)\n",
        "dec =[]\n",
        "b = [1,1,1,0,0]\n",
        "j=(len(b))-1\n",
        "for i in b:\n",
        "  conver = i*(pow(2,j))\n",
        "  j=j-1\n",
        "  dec.append(conver)\n",
        "decimal=sum(dec)\n",
        "print(decimal)\n"
      ],
      "metadata": {
        "id": "OBDSdHZP3jG0",
        "colab": {
          "base_uri": "https://localhost:8080/"
        },
        "outputId": "f5ac454e-8e9f-4520-f3e0-5c16a57e8d3b"
      },
      "execution_count": null,
      "outputs": [
        {
          "output_type": "stream",
          "name": "stdout",
          "text": [
            "28\n"
          ]
        }
      ]
    },
    {
      "cell_type": "code",
      "source": [
        "#funcion de decimal a binario\n",
        "def DaB(dec):\n",
        "  bin=[]\n",
        "  while dec >= 1:\n",
        "    res = dec % 2\n",
        "    dec = dec//2\n",
        "    bin.append(res)\n",
        "  bin.reverse()\n",
        "  print(\"su conversion a binario es:\",bin)\n",
        "\n",
        "#funcion de binario a decimal\n",
        "def BaD(bin):\n",
        "  dec =[]\n",
        "  j=(len(bin))-1\n",
        "  for i in bin:\n",
        "    conver = i*(pow(2,j))\n",
        "    j=j-1\n",
        "    dec.append(conver)\n",
        "  decimal=sum(dec)\n",
        "  print(\"Su conversion a decimal es: \", decimal)\n",
        "\n",
        "#Preguntamos un numero e invocamos las funciones\n",
        "opcion= input(\"Escribe 'd' para convertir un numero decimal a binario o 'b' para convertir un numero binario a decimal: \")\n",
        "if opcion == \"d\":\n",
        "  dec=int(input(\"Escribe un numero base decimal: \"))\n",
        "  DaB(dec)\n",
        "\n",
        "if opcion == \"b\":\n",
        "  bin = input(\"Escribe un numero binario separado por comas: \")\n",
        "  bin = bin.split(\",\")\n",
        "  for i in range(len(bin)):\n",
        "    bin[i]=int(bin[i])\n",
        "    bin = list(bin)\n",
        "  BaD(bin)\n",
        "\n",
        "\n"
      ],
      "metadata": {
        "id": "v0CmsJt6J-ES",
        "colab": {
          "base_uri": "https://localhost:8080/"
        },
        "outputId": "0a7328e7-6296-4d73-f12f-1f43f28b8379"
      },
      "execution_count": null,
      "outputs": [
        {
          "output_type": "stream",
          "name": "stdout",
          "text": [
            "Escribe 'd' para convertir un numero decimal a binario o 'b' para convertir un numero binario a decimal: b\n",
            "Escribe un numero binario separado por comas: 1,0,0,1,1,1,1\n",
            "Su conversion a decimal es:  79\n"
          ]
        }
      ]
    },
    {
      "cell_type": "code",
      "source": [
        "#Escribir un programa que reciba una cadena de caracteres y devuelva un diccionario con cada palabra que \n",
        "#contiene y su frecuencia. Escribir otra función que reciba el diccionario generado con la función anterior \n",
        "#y devuelva una tupla con la palabra más repetida y su frecuencia.\n",
        "\n",
        "#pedimos una frase al usuario\n",
        "#la separamos por espacios entre palabras y guardamos en la misma variable\n",
        "frase = input(\"Escribe una frase: \")\n",
        "frase = frase.split(\" \")\n",
        "contPalabras = []\n",
        "for w in frase:\n",
        "  contPalabras.append(frase.count(w))\n",
        "frecuenciaPal = {}\n",
        "for i in range(len(frase)):\n",
        "  frecuenciaPal[frase[i]]=contPalabras[i]\n",
        "print(frecuenciaPal)\n",
        "\n",
        "#funcion para devolver la tupla con la palabra mas repetida y su frecuencia\n",
        "max_frec = max(frecuenciaPal, key=lambda key: frecuenciaPal[key])\n",
        "Num_max_frec =(frecuenciaPal[max_frec])\n",
        "#para crear la tupla solo se encierra en parentesis las dos variables\n",
        "print((max_frec, Num_max_frec))\n",
        "\n",
        "\n",
        "\n"
      ],
      "metadata": {
        "colab": {
          "base_uri": "https://localhost:8080/"
        },
        "id": "E9KSW_G6FXNM",
        "outputId": "b6f05adf-f266-4447-d862-aab78af3c527"
      },
      "execution_count": 17,
      "outputs": [
        {
          "output_type": "stream",
          "name": "stdout",
          "text": [
            "Escribe una frase: la casa casa casa es roja\n",
            "{'la': 1, 'casa': 3, 'es': 1, 'roja': 1}\n",
            "('casa', 3)\n"
          ]
        }
      ]
    },
    {
      "cell_type": "code",
      "source": [
        ""
      ],
      "metadata": {
        "id": "9uVxCbRSOknU"
      },
      "execution_count": null,
      "outputs": []
    }
  ]
}