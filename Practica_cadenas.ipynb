{
  "nbformat": 4,
  "nbformat_minor": 0,
  "metadata": {
    "colab": {
      "name": "Practica_cadenas.ipynb",
      "provenance": [],
      "collapsed_sections": [],
      "authorship_tag": "ABX9TyPau8QLCGj1JJjIUCWoNQsN",
      "include_colab_link": true
    },
    "kernelspec": {
      "name": "python3",
      "display_name": "Python 3"
    },
    "language_info": {
      "name": "python"
    }
  },
  "cells": [
    {
      "cell_type": "markdown",
      "metadata": {
        "id": "view-in-github",
        "colab_type": "text"
      },
      "source": [
        "<a href=\"https://colab.research.google.com/github/Sotsil/prueba2/blob/main/Practica_cadenas.ipynb\" target=\"_parent\"><img src=\"https://colab.research.google.com/assets/colab-badge.svg\" alt=\"Open In Colab\"/></a>"
      ]
    },
    {
      "cell_type": "code",
      "execution_count": null,
      "metadata": {
        "colab": {
          "base_uri": "https://localhost:8080/"
        },
        "id": "9o9NDCVguhaG",
        "outputId": "4e81cbfc-abe6-40d0-c7ea-28dbd9d260a5"
      },
      "outputs": [
        {
          "output_type": "stream",
          "name": "stdout",
          "text": [
            "¿Cómo te llamas? sotsil\n",
            "Introduce un número entero: 3\n",
            "sotsil\n",
            "sotsil\n",
            "sotsil\n",
            "\n"
          ]
        }
      ],
      "source": [
        "nombre = input(\"¿Cómo te llamas? \")\n",
        "n = input(\"Introduce un número entero: \")\n",
        "print((nombre + \"\\n\") * int(n))"
      ]
    },
    {
      "cell_type": "code",
      "source": [
        "#Escribir un programa que pregunte el nombre completo del usuario en la consola y después muestre por pantalla el nombre completo\n",
        "# del usuario tres veces, una con todas las letras minúsculas, otra con todas las letras mayúsculas y otra solo con la primera letra\n",
        "# del nombre y de los apellidos en mayúscula. El usuario puede introducir su nombre combinando mayúsculas y minúsculas como quiera.\n",
        "\n",
        "nombre = input(\"Escribe tu nombre completo: \")\n",
        "print((nombre.lower()+\"\\n\"), (nombre.upper()+\"\\n\"), (nombre.title()+\"\\n\"))"
      ],
      "metadata": {
        "id": "aRhmEf9Y4E9V",
        "colab": {
          "base_uri": "https://localhost:8080/"
        },
        "outputId": "5e6ed557-83eb-4771-bca1-cf2d2f020d4d"
      },
      "execution_count": null,
      "outputs": [
        {
          "output_type": "stream",
          "name": "stdout",
          "text": [
            "Escribe tu nombre completo: sotsil silva\n",
            "sotsil silva\n",
            " SOTSIL SILVA\n",
            " Sotsil Silva\n",
            "\n"
          ]
        }
      ]
    },
    {
      "cell_type": "code",
      "source": [
        "#Escribir un programa que pregunte el nombre del usuario en la consola y después de que el usuario lo introduzca muestre por pantalla <NOMBRE>\n",
        "# tiene <n> letras, donde <NOMBRE> es el nombre de usuario en mayúsculas y <n> es el número de letras que tienen el nombre.\n",
        "\n",
        "nombre = input(\"Escribe tu nombre: \")\n",
        "\n",
        "print((nombre.upper()), \"tiene\", len(nombre), \"letras\" )\n",
        "\n",
        "\n"
      ],
      "metadata": {
        "colab": {
          "base_uri": "https://localhost:8080/"
        },
        "id": "uTvON_u36-Ib",
        "outputId": "63613061-7d00-4a27-8fe7-90ddde8b91fc"
      },
      "execution_count": null,
      "outputs": [
        {
          "output_type": "stream",
          "name": "stdout",
          "text": [
            "Escribe tu nombre: sotsil\n",
            "SOTSIL tiene 6 letras\n"
          ]
        }
      ]
    },
    {
      "cell_type": "code",
      "source": [
        "#Los teléfonos de una empresa tienen el siguiente formato prefijo-número-extension donde el prefijo es el código del país +34, y\n",
        " #la extensión tiene dos dígitos (por ejemplo +34-913724710-56). Escribir un programa que pregunte por un número de teléfono con este\n",
        "  #formato y muestre por pantalla el número de teléfono sin el prefijo y la extensión.\n",
        "\n",
        "tel_1 = input(\"Cual es el numero de telefono con prefijo y extension: \")\n",
        "fin_tel = int(len(tel_1)-2)\n",
        "tel_2 = tel_1[2:fin_tel]\n",
        "print(\"el numero de telefono es: \", tel_2)\n",
        "\n",
        "\n",
        "\n"
      ],
      "metadata": {
        "colab": {
          "base_uri": "https://localhost:8080/"
        },
        "id": "wS8jg5-k9ZOJ",
        "outputId": "bce314ca-049e-483c-ea5d-4d7ba299b911"
      },
      "execution_count": null,
      "outputs": [
        {
          "output_type": "stream",
          "name": "stdout",
          "text": [
            "Cual es el numero de telefono con prefijo y extension: 3312345678933\n",
            "el numero de telefono es:  123456789\n"
          ]
        }
      ]
    },
    {
      "cell_type": "code",
      "source": [
        "#Escribir un programa que pida al usuario que introduzca una frase en la consola y muestre por pantalla la frase invertida.\n",
        "frase = input(\"escribe la frase \")\n",
        "fraseInv = ''.join(reversed(frase))\n",
        "print(fraseInv)\n",
        "\n",
        "\n",
        "\n",
        "\n"
      ],
      "metadata": {
        "id": "Mjou3_VMGAfi",
        "colab": {
          "base_uri": "https://localhost:8080/"
        },
        "outputId": "a2159dfa-a1f4-49c7-f2e7-b59d62de62b6"
      },
      "execution_count": null,
      "outputs": [
        {
          "output_type": "stream",
          "name": "stdout",
          "text": [
            "escribe la frase me gusta Python\n",
            "nohtyP atsug em\n"
          ]
        }
      ]
    },
    {
      "cell_type": "code",
      "source": [
        "#este hace lo mismo que el de arriba\n",
        "frase = input(\"Introduce una frase: \")\n",
        "print(frase[::-1])"
      ],
      "metadata": {
        "colab": {
          "base_uri": "https://localhost:8080/"
        },
        "id": "pEt3iBlJK-pX",
        "outputId": "c01a1773-d1be-48a2-c28d-e3b468972fd2"
      },
      "execution_count": null,
      "outputs": [
        {
          "output_type": "stream",
          "name": "stdout",
          "text": [
            "Introduce una frase: me gusta Python\n",
            "nohtyP atsug em\n"
          ]
        }
      ]
    },
    {
      "cell_type": "code",
      "source": [
        "#Escribir un programa que pida al usuario que introduzca una frase en la consola y una vocal, \n",
        "#y después muestre por pantalla la misma frase pero con la vocal introducida en mayúscula.\n",
        "frase = input(\"Escribe una frase: \")\n",
        "vocal = input(\"escribe una vocal \")\n",
        "Vocal2 = vocal.upper()\n",
        "frase2 = frase.replace(vocal, Vocal2)\n",
        "print(frase2)\n",
        "\n",
        "\n"
      ],
      "metadata": {
        "colab": {
          "base_uri": "https://localhost:8080/"
        },
        "id": "4W5ZmMzpuVh0",
        "outputId": "33bc493a-1d88-4e26-800e-3cea5bde09aa"
      },
      "execution_count": null,
      "outputs": [
        {
          "output_type": "stream",
          "name": "stdout",
          "text": [
            "Escribe una frase: la casa es verde\n",
            "escribe una vocal a\n",
            "lA cAsA es verde\n"
          ]
        }
      ]
    },
    {
      "cell_type": "code",
      "source": [
        "#Escribir un programa que pregunte el correo electrónico del usuario en la consola y muestre por \n",
        "#pantalla otro correo electrónico con el mismo nombre (la parte delante de la arroba @) pero con dominio ceu.es.\n",
        "correo = input(\"escibe tu correo \")\n",
        "indice_arroba = correo.index('@') \n",
        "subcadena = correo[indice_arroba:len(correo)]\n",
        "correo2 = correo.replace(subcadena, \"@ceu.es\")\n",
        "print(correo2)\n"
      ],
      "metadata": {
        "colab": {
          "base_uri": "https://localhost:8080/"
        },
        "id": "ve9EjGfyzyK8",
        "outputId": "7cc299c0-27ae-42be-eee8-5eb35f1d9fa5"
      },
      "execution_count": null,
      "outputs": [
        {
          "output_type": "stream",
          "name": "stdout",
          "text": [
            "escibe tu correo casa@gmail.com\n",
            "casa@ceu.es\n"
          ]
        }
      ]
    },
    {
      "cell_type": "code",
      "source": [
        "#Escribir un programa que pregunte por consola el precio de un producto en euros con dos decimales y muestre por pantalla \n",
        "#el número de euros y el número de céntimos del precio introducido.\n",
        "\n",
        "precio = str(input(\"Cual es el precio del producto? \"))\n",
        "indice_punto = precio.index(\".\")\n",
        "euros = precio[:indice_punto]\n",
        "centimos = precio[(indice_punto+1):len(precio)]\n",
        "print(\"el producto cuesta\",euros ,\"euros\", \"y\",centimos,\"centimos\" )\n",
        "\n"
      ],
      "metadata": {
        "colab": {
          "base_uri": "https://localhost:8080/"
        },
        "id": "yikVFcZH1UUu",
        "outputId": "50d80b63-cdbd-4245-d5ca-06d7ddd532cf"
      },
      "execution_count": null,
      "outputs": [
        {
          "output_type": "stream",
          "name": "stdout",
          "text": [
            "Cual es el precio del producto? 125.87\n",
            "el producto cuesta 125 euros y 87 centimos\n"
          ]
        }
      ]
    },
    {
      "cell_type": "code",
      "source": [
        "#Escribir un programa que pregunte al usuario la fecha de su nacimiento en formato dd/mm/aaaa \n",
        "#y muestra por pantalla, el día, el mes y el año. Adaptar el programa anterior para que también \n",
        "#funcione cuando el día o el mes se introduzcan con un solo carácter.\n",
        "fecha_cumple = str(input(\"Cual es tu fecha de nacimiento? \"))\n",
        "separador = \"/\"\n",
        "fecha_separada = fecha_cumple.split(separador)\n",
        "print(\"dia:\", fecha_separada[0], \"mes:\", fecha_separada[1], \"año\", fecha_separada[2])\n",
        "\n",
        "\n"
      ],
      "metadata": {
        "colab": {
          "base_uri": "https://localhost:8080/"
        },
        "id": "aC6q989l7Viq",
        "outputId": "c5e889de-6151-4bc1-8602-aa0e2b9ee6f5"
      },
      "execution_count": null,
      "outputs": [
        {
          "output_type": "stream",
          "name": "stdout",
          "text": [
            "Cual es tu fecha de nacimiento? 13/08/80\n",
            "dia: 13 mes: 08 año 80\n"
          ]
        }
      ]
    },
    {
      "cell_type": "code",
      "source": [
        "print(\"\\U0001f600\")"
      ],
      "metadata": {
        "id": "9VBAStL2DICa",
        "colab": {
          "base_uri": "https://localhost:8080/"
        },
        "outputId": "cb0d96e4-ff77-4248-ebc1-0d9d1c11f662"
      },
      "execution_count": null,
      "outputs": [
        {
          "output_type": "stream",
          "name": "stdout",
          "text": [
            "😀\n"
          ]
        }
      ]
    },
    {
      "cell_type": "code",
      "source": [
        "print(\"\\U0001f618\")"
      ],
      "metadata": {
        "colab": {
          "base_uri": "https://localhost:8080/"
        },
        "id": "dChaGPQH4uKy",
        "outputId": "b6990cde-18dd-4fb5-e169-136b28e093b0"
      },
      "execution_count": null,
      "outputs": [
        {
          "output_type": "stream",
          "name": "stdout",
          "text": [
            "😘\n"
          ]
        }
      ]
    },
    {
      "cell_type": "code",
      "source": [
        "print(\"🦕\"*5)"
      ],
      "metadata": {
        "colab": {
          "base_uri": "https://localhost:8080/"
        },
        "id": "iXtrnfkzUrXb",
        "outputId": "03cdd2b4-0860-43d5-c936-299dbef0a919"
      },
      "execution_count": null,
      "outputs": [
        {
          "output_type": "stream",
          "name": "stdout",
          "text": [
            "🦕🦕🦕🦕🦕\n"
          ]
        }
      ]
    },
    {
      "cell_type": "code",
      "source": [
        "#Escribir un programa que pregunte por consola por los productos de una cesta de la compra, separados por comas, y\n",
        "# muestre por pantalla cada uno de los productos en una línea distinta.\n",
        "compra = input(\"Que articulos compraste? \")\n",
        "separar = \",\"\n",
        "compra_separada = compra.split(separar)\n",
        "print('\\n'.join(map(str, compra_separada)))\n",
        "\n"
      ],
      "metadata": {
        "colab": {
          "base_uri": "https://localhost:8080/"
        },
        "id": "UQQJTga96kxU",
        "outputId": "6b1199af-df0f-4831-c2d5-d7a9b31a5408"
      },
      "execution_count": null,
      "outputs": [
        {
          "output_type": "stream",
          "name": "stdout",
          "text": [
            "Que articulos compraste? agua,leche,pan,atun,mayonesa\n",
            "agua\n",
            "leche\n",
            "pan\n",
            "atun\n",
            "mayonesa\n"
          ]
        }
      ]
    },
    {
      "cell_type": "code",
      "source": [
        "#Escribir un programa que pregunte el nombre el un producto, su precio y un número de unidades y muestre por pantalla una\n",
        "# cadena con el nombre del producto seguido de su precio unitario con 6 dígitos enteros y 2 decimales, el número de unidades\n",
        "# con tres dígitos y el coste total con 8 dígitos enteros y 2 decimales.\n",
        "nom_prod = str(input(\"Que producto es: \"))\n",
        "prod_cost = float(input(\"cual es su precio: \"))\n",
        "num_unidades = int(input(\"cuantos productos son: \"))\n",
        "costo_total = prod_cost * num_unidades\n",
        "print((nom_prod+'\\n'), (\"{:09.2f}\".format(prod_cost)+'\\n'),(\"{:03d}\".format(num_unidades)+'\\n'),(\"{:011.2f}\".format(costo_total)+'\\n'))\n",
        "\n",
        "# Ancho mínimo de 8 cifras con 3 números decimales, completado con ceros\n",
        "\n",
        "#print(\"{:08.3f}\".format(12.2346))\n",
        "#print(\"{:05d}\".format(12))\n",
        "#Imprimirá:\n",
        "#00012\n",
        "\n",
        "\n",
        "\n"
      ],
      "metadata": {
        "colab": {
          "base_uri": "https://localhost:8080/"
        },
        "id": "8tshPesF-E4M",
        "outputId": "d59624d1-9c19-4325-9c42-a920c5a3d176"
      },
      "execution_count": null,
      "outputs": [
        {
          "output_type": "stream",
          "name": "stdout",
          "text": [
            "Que producto es: agua\n",
            "cual es su precio: 10\n",
            "cuantos productos son: 5\n",
            "agua\n",
            " 000010.00\n",
            " 005\n",
            " 00000050.00\n",
            "\n"
          ]
        }
      ]
    },
    {
      "cell_type": "code",
      "source": [
        ""
      ],
      "metadata": {
        "id": "mFSgjUAOGNys"
      },
      "execution_count": null,
      "outputs": []
    }
  ]
}