{
  "nbformat": 4,
  "nbformat_minor": 0,
  "metadata": {
    "colab": {
      "name": "practica_bucles.ipynb",
      "provenance": [],
      "collapsed_sections": [],
      "authorship_tag": "ABX9TyP6Ggx15HzMjNe6n4Yx78Gj",
      "include_colab_link": true
    },
    "kernelspec": {
      "name": "python3",
      "display_name": "Python 3"
    },
    "language_info": {
      "name": "python"
    }
  },
  "cells": [
    {
      "cell_type": "markdown",
      "metadata": {
        "id": "view-in-github",
        "colab_type": "text"
      },
      "source": [
        "<a href=\"https://colab.research.google.com/github/Sotsil/prueba2/blob/main/practica_bucles.ipynb\" target=\"_parent\"><img src=\"https://colab.research.google.com/assets/colab-badge.svg\" alt=\"Open In Colab\"/></a>"
      ]
    },
    {
      "cell_type": "code",
      "execution_count": null,
      "metadata": {
        "colab": {
          "base_uri": "https://localhost:8080/"
        },
        "id": "eNEtf6qWK5RD",
        "outputId": "de0bfe6e-d358-4672-9ce7-63b9da8bc367"
      },
      "outputs": [
        {
          "output_type": "stream",
          "name": "stdout",
          "text": [
            "escribe una palabra agua\n",
            "1 agua\n",
            "2 agua\n",
            "3 agua\n",
            "4 agua\n",
            "5 agua\n",
            "6 agua\n",
            "7 agua\n",
            "8 agua\n",
            "9 agua\n",
            "10 agua\n"
          ]
        }
      ],
      "source": [
        "#Escribir un programa que pida al usuario una palabra y la muestre por pantalla 10 veces.\n",
        "entrada = input(\"escribe una palabra \")\n",
        "i=1\n",
        "while i<11:\n",
        "  print(i,entrada)\n",
        "  i+=1\n"
      ]
    },
    {
      "cell_type": "code",
      "source": [
        "#Escribir un programa que pregunte al usuario su edad\n",
        "# y muestre por pantalla todos los años que ha cumplido (desde 1 hasta su edad).\n",
        "\n",
        "entrada_edad = int(input(\"cual es tu edad? \"))\n",
        "j=1\n",
        "while j<= entrada_edad:\n",
        "  print(\"Has cumplido \",j, \"años\")\n",
        "  j+=1"
      ],
      "metadata": {
        "id": "ffaziJc3LXsk",
        "colab": {
          "base_uri": "https://localhost:8080/"
        },
        "outputId": "b8e0e31d-dba6-4d88-fe39-96bb76c1fff4"
      },
      "execution_count": null,
      "outputs": [
        {
          "output_type": "stream",
          "name": "stdout",
          "text": [
            "cual es tu edad? 12\n",
            "Has cumplido  1 años\n",
            "Has cumplido  2 años\n",
            "Has cumplido  3 años\n",
            "Has cumplido  4 años\n",
            "Has cumplido  5 años\n",
            "Has cumplido  6 años\n",
            "Has cumplido  7 años\n",
            "Has cumplido  8 años\n",
            "Has cumplido  9 años\n",
            "Has cumplido  10 años\n",
            "Has cumplido  11 años\n",
            "Has cumplido  12 años\n"
          ]
        }
      ]
    },
    {
      "cell_type": "code",
      "source": [
        "#Escribir un programa que pida al usuario un número entero positivo y muestre por pantalla todos los números pares desde 1 hasta ese número separados por comas.\n",
        "num = int(input(\"escribe un numero \"))\n",
        "for n in range(1,num+1):\n",
        "  par = n % 2\n",
        "  if par == 0:\n",
        "    print (n, end=\",\")\n",
        "\n",
        "\n",
        "\n"
      ],
      "metadata": {
        "colab": {
          "base_uri": "https://localhost:8080/"
        },
        "id": "p5LB5BNpNWR8",
        "outputId": "6393224d-b46a-42f0-9f6c-9f3abb404c95"
      },
      "execution_count": null,
      "outputs": [
        {
          "output_type": "stream",
          "name": "stdout",
          "text": [
            "escribe un numero 20\n",
            "2,4,6,8,10,12,14,16,18,20,"
          ]
        }
      ]
    },
    {
      "cell_type": "code",
      "source": [
        "#imprime los numeros impares\n",
        "n = int(input(\"Introduce un número entero positivo: \"))\n",
        "for i in range(1, n+1, 2):\n",
        "    print(i, end=\", \")"
      ],
      "metadata": {
        "id": "5O7zNi64Rt82",
        "colab": {
          "base_uri": "https://localhost:8080/"
        },
        "outputId": "001c9948-5c98-4f04-b8aa-7f5ac2ea0544"
      },
      "execution_count": null,
      "outputs": [
        {
          "output_type": "stream",
          "name": "stdout",
          "text": [
            "Introduce un número entero positivo: 20\n",
            "1, 3, 5, 7, 9, 11, 13, 15, 17, 19, "
          ]
        }
      ]
    },
    {
      "cell_type": "code",
      "source": [
        "#Escribir un programa que pida al usuario un número entero positivo y muestre por pantalla la cuenta atrás desde ese número hasta cero separados por comas.\n",
        "numero = int(input(\"escribe un numero: \"))\n",
        "for i in range(numero, -1, -1):\n",
        "  print(i, end=\",\")"
      ],
      "metadata": {
        "id": "x5Jxjxt1WSAw",
        "colab": {
          "base_uri": "https://localhost:8080/"
        },
        "outputId": "ad773a46-7695-4421-f9e0-58dacc780e8d"
      },
      "execution_count": null,
      "outputs": [
        {
          "output_type": "stream",
          "name": "stdout",
          "text": [
            "escribe un numero: 20\n",
            "20,19,18,17,16,15,14,13,12,11,10,9,8,7,6,5,4,3,2,1,0,"
          ]
        }
      ]
    },
    {
      "cell_type": "code",
      "source": [
        "#Escribir un programa que pregunte al usuario una cantidad a invertir, el interés anual y el número de años,\n",
        "# y muestre por pantalla el capital obtenido en la inversión cada año que dura la inversión.\n",
        "inver = int(input(\"cual es la inversion inicial? \"))\n",
        "interes = int(input(\"cual es el % de interes anual? \"))\n",
        "tiempo = int(input(\"cuantos años invertiras el dinero? \"))\n",
        "for a in range(tiempo):\n",
        "  inver *= 1+interes/100\n",
        "  print(\"el año \",a+1, \"tu inversion sera de \", \"{:.2f}\".format(inver))\n"
      ],
      "metadata": {
        "colab": {
          "base_uri": "https://localhost:8080/"
        },
        "id": "J00joyqnE1Sm",
        "outputId": "4ef24c33-1c99-4a45-8cc9-ce2783294e9a"
      },
      "execution_count": null,
      "outputs": [
        {
          "output_type": "stream",
          "name": "stdout",
          "text": [
            "cual es la inversion inicial? 1000\n",
            "cual es el % de interes anual? 10\n",
            "cuantos años invertiras el dinero? 5\n",
            "el año  1 tu inversion sera de  1100.00\n",
            "el año  2 tu inversion sera de  1210.00\n",
            "el año  3 tu inversion sera de  1331.00\n",
            "el año  4 tu inversion sera de  1464.10\n",
            "el año  5 tu inversion sera de  1610.51\n"
          ]
        }
      ]
    },
    {
      "cell_type": "code",
      "source": [
        "#Escribir un programa que pida al usuario un número entero y muestre por pantalla un triángulo rectángulo como el de más abajo, de altura el número introducido.\n",
        "# *\n",
        "# **\n",
        "# ***\n",
        "# ****\n",
        "# *****\n",
        "\n",
        "altura = int(input(\"escribe un numero\"))\n",
        "for i in range(1,altura+1):\n",
        "  print(\"*\" * i,end=\"\\n\")\n"
      ],
      "metadata": {
        "colab": {
          "base_uri": "https://localhost:8080/"
        },
        "id": "PntV9fa-OP54",
        "outputId": "1ea71f90-22d1-4166-e41e-4690a46fc08f"
      },
      "execution_count": null,
      "outputs": [
        {
          "output_type": "stream",
          "name": "stdout",
          "text": [
            "escribe un numero5\n",
            "*\n",
            "**\n",
            "***\n",
            "****\n",
            "*****\n"
          ]
        }
      ]
    },
    {
      "cell_type": "code",
      "source": [
        "\n",
        "#Escribir un programa que muestre por pantalla la tabla de multiplicar del 1 al 10.\n",
        "for i in range(1,11):\n",
        "  for j in range(1,11):\n",
        "    print(j,\"x\",i,\"=\",i*j, end=\"\\t\")\n",
        "  else:\n",
        "    print(\"\\n\")\n",
        "    \n"
      ],
      "metadata": {
        "colab": {
          "base_uri": "https://localhost:8080/"
        },
        "id": "FCJ3qeIfVyaF",
        "outputId": "dc8f7d1a-32b3-4043-f35e-80cbd7e9727c"
      },
      "execution_count": null,
      "outputs": [
        {
          "output_type": "stream",
          "name": "stdout",
          "text": [
            "1 x 1 = 1\t2 x 1 = 2\t3 x 1 = 3\t4 x 1 = 4\t5 x 1 = 5\t6 x 1 = 6\t7 x 1 = 7\t8 x 1 = 8\t9 x 1 = 9\t10 x 1 = 10\t\n",
            "\n",
            "1 x 2 = 2\t2 x 2 = 4\t3 x 2 = 6\t4 x 2 = 8\t5 x 2 = 10\t6 x 2 = 12\t7 x 2 = 14\t8 x 2 = 16\t9 x 2 = 18\t10 x 2 = 20\t\n",
            "\n",
            "1 x 3 = 3\t2 x 3 = 6\t3 x 3 = 9\t4 x 3 = 12\t5 x 3 = 15\t6 x 3 = 18\t7 x 3 = 21\t8 x 3 = 24\t9 x 3 = 27\t10 x 3 = 30\t\n",
            "\n",
            "1 x 4 = 4\t2 x 4 = 8\t3 x 4 = 12\t4 x 4 = 16\t5 x 4 = 20\t6 x 4 = 24\t7 x 4 = 28\t8 x 4 = 32\t9 x 4 = 36\t10 x 4 = 40\t\n",
            "\n",
            "1 x 5 = 5\t2 x 5 = 10\t3 x 5 = 15\t4 x 5 = 20\t5 x 5 = 25\t6 x 5 = 30\t7 x 5 = 35\t8 x 5 = 40\t9 x 5 = 45\t10 x 5 = 50\t\n",
            "\n",
            "1 x 6 = 6\t2 x 6 = 12\t3 x 6 = 18\t4 x 6 = 24\t5 x 6 = 30\t6 x 6 = 36\t7 x 6 = 42\t8 x 6 = 48\t9 x 6 = 54\t10 x 6 = 60\t\n",
            "\n",
            "1 x 7 = 7\t2 x 7 = 14\t3 x 7 = 21\t4 x 7 = 28\t5 x 7 = 35\t6 x 7 = 42\t7 x 7 = 49\t8 x 7 = 56\t9 x 7 = 63\t10 x 7 = 70\t\n",
            "\n",
            "1 x 8 = 8\t2 x 8 = 16\t3 x 8 = 24\t4 x 8 = 32\t5 x 8 = 40\t6 x 8 = 48\t7 x 8 = 56\t8 x 8 = 64\t9 x 8 = 72\t10 x 8 = 80\t\n",
            "\n",
            "1 x 9 = 9\t2 x 9 = 18\t3 x 9 = 27\t4 x 9 = 36\t5 x 9 = 45\t6 x 9 = 54\t7 x 9 = 63\t8 x 9 = 72\t9 x 9 = 81\t10 x 9 = 90\t\n",
            "\n",
            "1 x 10 = 10\t2 x 10 = 20\t3 x 10 = 30\t4 x 10 = 40\t5 x 10 = 50\t6 x 10 = 60\t7 x 10 = 70\t8 x 10 = 80\t9 x 10 = 90\t10 x 10 = 100\t\n",
            "\n"
          ]
        }
      ]
    },
    {
      "cell_type": "code",
      "source": [
        "#Escribir un programa que pida al usuario un número entero y muestre por pantalla un triángulo rectángulo como el de más abajo.\n",
        "\n",
        "#1\n",
        "#3 1\n",
        "#5 3 1\n",
        "#7 5 3 1\n",
        "#9 7 5 3 1\n",
        "n = int(input(\"Introduce la altura del triángulo (entero positivo): \"))\n",
        "for i in range(1, n+1, 2):\n",
        "    for j in range(i, 0, -2):\n",
        "        print(j, end=\" \")\n",
        "    print(\"\")"
      ],
      "metadata": {
        "id": "b6QyinMdXqoF",
        "colab": {
          "base_uri": "https://localhost:8080/"
        },
        "outputId": "9736e2b8-e815-4264-e973-530236e4ea2e"
      },
      "execution_count": null,
      "outputs": [
        {
          "output_type": "stream",
          "name": "stdout",
          "text": [
            "Introduce la altura del triángulo (entero positivo): 9\n",
            "1 \n",
            "3 1 \n",
            "5 3 1 \n",
            "7 5 3 1 \n",
            "9 7 5 3 1 \n"
          ]
        }
      ]
    },
    {
      "cell_type": "code",
      "source": [
        "#from IPython.core.display import clear_output\n",
        "#Escribir un programa que almacene la cadena de caracteres contraseña en una variable, pregunte al usuario por la contraseña hasta que introduzca la contraseña correcta.\n",
        "contraseña = \"cuaderno\"\n",
        "usuario = input(\"cual es la contraseña? \")\n",
        "while contraseña != usuario:\n",
        "  usuario = input(\"escribe la contraseña correcta: \")\n",
        "print(\"contraseña correcta\")\n",
        "\n",
        "\n",
        "  "
      ],
      "metadata": {
        "id": "GZY68zzbjCAS",
        "colab": {
          "base_uri": "https://localhost:8080/"
        },
        "outputId": "be773e5a-8b9f-40f7-c6b0-0d6289438d76"
      },
      "execution_count": null,
      "outputs": [
        {
          "output_type": "stream",
          "name": "stdout",
          "text": [
            "cual es la contraseña? jkiju\n",
            "escribe la contraseña correcta: jjjki\n",
            "escribe la contraseña correcta: yuuiio\n",
            "escribe la contraseña correcta: cuaderno\n",
            "contraseña correcta\n"
          ]
        }
      ]
    },
    {
      "cell_type": "code",
      "source": [
        "#Escribir un programa que pida al usuario un número entero y muestre por pantalla si es un número primo o no.\n",
        "number = int(input(\"escribe un numero: \"))\n",
        "for i in range(2,number):\n",
        "  if number % i == 0:\n",
        "    print(\"es un numero compuesto,\",i, \"es divisor\")\n",
        "    break\n",
        "else:\n",
        "  print(\"Es primo\")\n",
        "\n",
        "    \n",
        "  "
      ],
      "metadata": {
        "colab": {
          "base_uri": "https://localhost:8080/"
        },
        "id": "MsiS_btBr9MH",
        "outputId": "ca7dde70-b651-473c-e98c-6d6e489b3a42"
      },
      "execution_count": null,
      "outputs": [
        {
          "output_type": "stream",
          "name": "stdout",
          "text": [
            "escribe un numero: 887\n",
            "Es primo\n"
          ]
        }
      ]
    },
    {
      "cell_type": "code",
      "source": [
        "#Escribir un programa que pida al usuario una palabra y luego muestre por pantalla una a una las letras de la palabra introducida empezando por la última.\n",
        "\n",
        "\n",
        "palabra = input(\"escribe una palabra: \")\n",
        "for i in reversed(palabra):\n",
        "  print(i)\n",
        "\n",
        "#OTRA FORMA#\n",
        "#  word = input(\"Introduce una palabra: \")\n",
        "#for i in range(len(word)-1, -1, -1):\n",
        " #   print(word[i])\n",
        "#OTRA FORMA 2#\n",
        " #for item in x[::-1]:\n",
        " #   print(item)"
      ],
      "metadata": {
        "id": "vSOneDP51M7e",
        "colab": {
          "base_uri": "https://localhost:8080/"
        },
        "outputId": "330c92db-bfe9-471e-af35-d11422d41aea"
      },
      "execution_count": null,
      "outputs": [
        {
          "output_type": "stream",
          "name": "stdout",
          "text": [
            "escribe una palabra: sotsil\n",
            "l\n",
            "i\n",
            "s\n",
            "t\n",
            "o\n",
            "s\n"
          ]
        }
      ]
    },
    {
      "cell_type": "code",
      "source": [
        "#Escribir un programa en el que se pregunte al usuario por una frase y una letra, y muestre por pantalla el número de veces que aparece la letra en la frase.\n",
        "frase = input(\"escribe una frase: \")\n",
        "letra = input(\"escribe una letra \")\n",
        "contador = frase.count(letra)\n",
        "print(\"la letra\",letra, \"se repite\", contador, \"veces en la frase.\")"
      ],
      "metadata": {
        "id": "F7x4ZcFqiFXD",
        "colab": {
          "base_uri": "https://localhost:8080/"
        },
        "outputId": "591f9cee-c8cb-4da5-9deb-de54d11100b2"
      },
      "execution_count": null,
      "outputs": [
        {
          "output_type": "stream",
          "name": "stdout",
          "text": [
            "escribe una frase: la casa morada esta bonita\n",
            "escribe una letra a\n",
            "la letra a se repite 7 veces en la frase.\n"
          ]
        }
      ]
    },
    {
      "cell_type": "code",
      "source": [
        "#Escribir un programa que muestre el eco de todo lo que el usuario introduzca hasta que el usuario escriba “salir” que terminará.\n",
        "entrada = input(\"\")\n",
        "while entrada != \"salir\":\n",
        "  entrada = input(\"\")\n",
        "\n"
      ],
      "metadata": {
        "colab": {
          "base_uri": "https://localhost:8080/"
        },
        "id": "qV1-dCSctdG9",
        "outputId": "e09ff51d-f9d0-4074-9413-6609a3d9db0d"
      },
      "execution_count": null,
      "outputs": [
        {
          "name": "stdout",
          "output_type": "stream",
          "text": [
            "casa\n",
            "dedo\n",
            "azul\n",
            "lo que sea\n",
            "salir\n"
          ]
        }
      ]
    },
    {
      "cell_type": "code",
      "source": [
        ""
      ],
      "metadata": {
        "id": "QALBlyWIvYdT"
      },
      "execution_count": null,
      "outputs": []
    }
  ]
}