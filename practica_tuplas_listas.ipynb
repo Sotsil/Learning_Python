{
  "nbformat": 4,
  "nbformat_minor": 0,
  "metadata": {
    "colab": {
      "name": "Copia de practica_tuplas_listas.ipynb",
      "provenance": [],
      "collapsed_sections": [],
      "authorship_tag": "ABX9TyOrUhUfdKSnqIKYSYpJdhrx",
      "include_colab_link": true
    },
    "kernelspec": {
      "name": "python3",
      "display_name": "Python 3"
    },
    "language_info": {
      "name": "python"
    }
  },
  "cells": [
    {
      "cell_type": "markdown",
      "metadata": {
        "id": "view-in-github",
        "colab_type": "text"
      },
      "source": [
        "<a href=\"https://colab.research.google.com/github/Sotsil/prueba2/blob/main/practica_tuplas_listas.ipynb\" target=\"_parent\"><img src=\"https://colab.research.google.com/assets/colab-badge.svg\" alt=\"Open In Colab\"/></a>"
      ]
    },
    {
      "cell_type": "code",
      "source": [
        ""
      ],
      "metadata": {
        "id": "FSVThWVl9anu"
      },
      "execution_count": null,
      "outputs": []
    },
    {
      "cell_type": "code",
      "execution_count": null,
      "metadata": {
        "colab": {
          "base_uri": "https://localhost:8080/"
        },
        "id": "sHnqk1Tv8kdm",
        "outputId": "d9aa13bb-bafb-421e-cf3e-2b2759e37a75"
      },
      "outputs": [
        {
          "output_type": "stream",
          "name": "stdout",
          "text": [
            "['fisica', 'quimica', 'matematicas', 'historia', 'lenguaje']\n"
          ]
        }
      ],
      "source": [
        "#Escribir un programa que almacene las asignaturas de un curso (por ejemplo Matemáticas, Física, Química, Historia y Lengua) en una lista y la muestre por pantalla.\n",
        "\n",
        "asignaturas = [\"fisica\", \"quimica\", \"matematicas\", \"historia\", \"lenguaje\"]\n",
        "print(asignaturas)"
      ]
    },
    {
      "cell_type": "code",
      "source": [
        "#Escribir un programa que almacene las asignaturas de un curso (por ejemplo Matemáticas, Física, Química, Historia y Lengua)}\n",
        "# en una lista y la muestre por pantalla el mensaje Yo estudio <asignatura>, donde <asignatura> es cada una de las asignaturas de la lista.\n",
        "asignaturas = [\"fisica\", \"quimica\", \"matematicas\", \"historia\", \"lenguaje\"]\n",
        "for i in asignaturas:\n",
        "  print(\"yo estudio \",i,end=\"\\n\")\n",
        "\n"
      ],
      "metadata": {
        "colab": {
          "base_uri": "https://localhost:8080/"
        },
        "id": "g-jDZPCK9bZt",
        "outputId": "46dba5c5-74ca-4c64-eb3b-29970fc36c26"
      },
      "execution_count": null,
      "outputs": [
        {
          "output_type": "stream",
          "name": "stdout",
          "text": [
            "yo estudio  fisica\n",
            "yo estudio  quimica\n",
            "yo estudio  matematicas\n",
            "yo estudio  historia\n",
            "yo estudio  lenguaje\n"
          ]
        }
      ]
    },
    {
      "cell_type": "code",
      "source": [
        "#Escribir un programa que almacene las asignaturas de un curso (por ejemplo Matemáticas, Física, Química, Historia y Lengua) \n",
        "#en una lista, pregunte al usuario la nota que ha sacado en cada asignatura, y después las muestre por pantalla con el mensaje \n",
        "#En <asignatura> has sacado <nota> donde <asignatura> es cada una des las asignaturas de la lista y <nota> cada una de las \n",
        "#correspondientes notas introducidas por el usuario.\n",
        "\n",
        "asignaturas = [\"Física\", \"Química\", \"Matemáticas\", \"Historia\", \"Lenguaje\"]\n",
        "nota = [ ]\n",
        "for j in asignaturas:\n",
        "  #print(j)\n",
        "  calif = input(\"Calificación de \"+j+\"? \" )\n",
        "  nota.append(calif)\n",
        "print(\"\\n\")\n",
        "for k in range(len(asignaturas)):\n",
        "  print(\"En \",asignaturas[k],\"has sacado \",nota[k])\n"
      ],
      "metadata": {
        "colab": {
          "base_uri": "https://localhost:8080/"
        },
        "id": "sasOQNTE-BVR",
        "outputId": "097b3763-80b2-444d-b114-84f88038ff65"
      },
      "execution_count": null,
      "outputs": [
        {
          "output_type": "stream",
          "name": "stdout",
          "text": [
            "Calificación de Física? 8\n",
            "Calificación de Química? 9\n",
            "Calificación de Matemáticas? 7\n",
            "Calificación de Historia? 8\n",
            "Calificación de Lenguaje? 5\n",
            "\n",
            "\n",
            "En  Física has sacado  8\n",
            "En  Química has sacado  9\n",
            "En  Matemáticas has sacado  7\n",
            "En  Historia has sacado  8\n",
            "En  Lenguaje has sacado  5\n"
          ]
        }
      ]
    },
    {
      "cell_type": "code",
      "source": [
        "#Escribir un programa que pregunte al usuario los números ganadores de la lotería primitiva, los almacene en \n",
        "#una lista y los muestre por pantalla ordenados de menor a mayor.\n",
        "loteria = []\n",
        "for j in range(6):\n",
        "  num = input(\"escribe los 6 numeros ganadores de la loteria: \")\n",
        "  loteria.append(num)\n",
        "lote2 = sorted(loteria)\n",
        "print(\"los numeros ganadores son: \", lote2)"
      ],
      "metadata": {
        "colab": {
          "base_uri": "https://localhost:8080/"
        },
        "id": "eOPMl8Sv_Sln",
        "outputId": "9f14e008-4d2e-48ed-c7c7-8c2b007dd072"
      },
      "execution_count": null,
      "outputs": [
        {
          "output_type": "stream",
          "name": "stdout",
          "text": [
            "escribe los 6 numeros ganadores de la loteria: 78\n",
            "escribe los 6 numeros ganadores de la loteria: 68\n",
            "escribe los 6 numeros ganadores de la loteria: 27\n",
            "escribe los 6 numeros ganadores de la loteria: 38\n",
            "escribe los 6 numeros ganadores de la loteria: 12\n",
            "escribe los 6 numeros ganadores de la loteria: 34\n",
            "los numeros ganadores son:  ['12', '27', '34', '38', '68', '78']\n"
          ]
        }
      ]
    },
    {
      "cell_type": "code",
      "source": [
        "#Escribir un programa que almacene en una lista los números del 1 al 10 y los muestre por pantalla en orden inverso separados por comas\n",
        "secuencia= list(range(1, 11))\n",
        "secuencia2 = sorted(secuencia, reverse=True)\n",
        "for i in secuencia2:\n",
        "  print(i, end=\", \")"
      ],
      "metadata": {
        "colab": {
          "base_uri": "https://localhost:8080/"
        },
        "id": "5BIGu8UyIsC7",
        "outputId": "cd3ee4cd-492c-4bb7-c25b-8ad156155e8e"
      },
      "execution_count": null,
      "outputs": [
        {
          "output_type": "stream",
          "name": "stdout",
          "text": [
            "10, 9, 8, 7, 6, 5, 4, 3, 2, 1, "
          ]
        }
      ]
    },
    {
      "cell_type": "code",
      "source": [
        "#Escribir un programa que almacene las asignaturas de un curso (por ejemplo Matemáticas, Física, Química, Historia y Lengua) \n",
        "#en una lista, pregunte al usuario la nota que ha sacado en cada asignatura y elimine de la lista las asignaturas aprobadas. \n",
        "#Al final el programa debe mostrar por pantalla las asignaturas que el usuario tiene que repetir.\n",
        "\n",
        "asignaturas = [\"Física\", \"Química\", \"Matemáticas\", \"Historia\", \"Lenguaje\"]\n",
        "aprobadas = [ ]\n",
        "for j in asignaturas:\n",
        "  calif = int(input(\"Calificación de \"+j+\"? \" ))\n",
        "  if calif > 6:\n",
        "    aprobadas.append(j)\n",
        "for j in aprobadas:\n",
        "  asignaturas.remove(j)\n",
        "print(\"tienes que recursas \"+ str(asignaturas))\n",
        "\n",
        "\n"
      ],
      "metadata": {
        "colab": {
          "base_uri": "https://localhost:8080/"
        },
        "id": "q5NyeITqb-N7",
        "outputId": "f11dacf3-f5b5-453c-b1d4-d34175e76853"
      },
      "execution_count": null,
      "outputs": [
        {
          "output_type": "stream",
          "name": "stdout",
          "text": [
            "Calificación de Física? 8\n",
            "Calificación de Química? 8\n",
            "Calificación de Matemáticas? 5\n",
            "Calificación de Historia? 5\n",
            "Calificación de Lenguaje? 5\n",
            "tienes que recursas ['Matemáticas', 'Historia', 'Lenguaje']\n"
          ]
        }
      ]
    },
    {
      "cell_type": "code",
      "source": [
        "#Escribir un programa que almacene el abecedario en una lista, elimine de la lista las letras que ocupen\n",
        "# posiciones múltiplos de 3, y muestre por pantalla la lista resultante.\n",
        "import string\n",
        "abc = list(string.ascii_lowercase)\n",
        "i=2\n",
        "while i < len(abc):\n",
        "  abc.pop(i)\n",
        "  i=i+2\n",
        "print(abc)\n",
        "\n",
        "  \n",
        "\n"
      ],
      "metadata": {
        "id": "tdQdiHZ8MlWa",
        "colab": {
          "base_uri": "https://localhost:8080/"
        },
        "outputId": "d0f266a3-b05e-44ac-da81-d3745d590ac7"
      },
      "execution_count": null,
      "outputs": [
        {
          "output_type": "stream",
          "name": "stdout",
          "text": [
            "['a', 'b', 'd', 'e', 'g', 'h', 'j', 'k', 'm', 'n', 'p', 'q', 's', 't', 'v', 'w', 'y', 'z']\n"
          ]
        }
      ]
    },
    {
      "cell_type": "code",
      "source": [
        "#Escribir un programa que pida al usuario una palabra y muestre por pantalla si es un palíndromo.\n",
        "palabra = input(\"escribe una palabra: \")\n",
        "fraseInv = ''.join(reversed(palabra))\n",
        "if palabra == fraseInv:\n",
        "  print(\"palindromo\")\n",
        "else:\n",
        "  print(\"No es palindromo\")"
      ],
      "metadata": {
        "id": "TyCaiOPfprSQ",
        "colab": {
          "base_uri": "https://localhost:8080/"
        },
        "outputId": "20e4f6d0-e9ae-44a9-ddff-b0c0472f2031"
      },
      "execution_count": null,
      "outputs": [
        {
          "output_type": "stream",
          "name": "stdout",
          "text": [
            "escribe una palabra: agua\n",
            "No es palindromo\n"
          ]
        }
      ]
    },
    {
      "cell_type": "code",
      "source": [
        "#Escribir un programa que pida al usuario una palabra y muestre por pantalla el número de veces que contiene cada vocal.\n",
        "palabra = input(\"Escribe una palabra: \")\n",
        "vocales = [\"a\",\"e\",\"i\",\"o\",\"u\"]\n",
        "for i in vocales:\n",
        "  contar = palabra.count(i)\n",
        "  print(i,\"se repite \", contar , \"veces\", end=\"\\n\")"
      ],
      "metadata": {
        "id": "NqMyZw3o_rAi",
        "colab": {
          "base_uri": "https://localhost:8080/"
        },
        "outputId": "28cbcc33-350f-459e-92c4-01b8b0882b1d"
      },
      "execution_count": null,
      "outputs": [
        {
          "output_type": "stream",
          "name": "stdout",
          "text": [
            "Escribe una palabra: elefante\n",
            "a se repite  1 veces\n",
            "e se repite  3 veces\n",
            "i se repite  0 veces\n",
            "o se repite  0 veces\n",
            "u se repite  0 veces\n"
          ]
        }
      ]
    },
    {
      "cell_type": "code",
      "source": [
        "#Escribir un programa que almacene en una lista los siguientes precios, 50, 75, 46, 22, 80, 65, 8, y muestre por pantalla el menor y el mayor de los precios.\n",
        "precios = [50, 75, 46, 2, 80, 65, 8]\n",
        "mayor_precio = max(precios)\n",
        "menor_precio = min(precios)\n",
        "print(\"el mayor de los precios es \", mayor_precio)\n",
        "print( \"el menor de los precios es \" , menor_precio)"
      ],
      "metadata": {
        "colab": {
          "base_uri": "https://localhost:8080/"
        },
        "id": "QIazu1hi6e5w",
        "outputId": "db09f06b-1827-4caf-ca86-bdd28ce0fa67"
      },
      "execution_count": null,
      "outputs": [
        {
          "output_type": "stream",
          "name": "stdout",
          "text": [
            "el mayor de los precios es  80\n",
            "el menor de los precios es  2\n"
          ]
        }
      ]
    },
    {
      "cell_type": "code",
      "source": [
        "#Escribir un programa que almacene los vectores (1,2,3) y (-1,0,2) en dos listas y muestre por pantalla su producto escalar.\n",
        "V1 = [1,2,3]\n",
        "V2 = [-1,0,2]\n",
        "prod_esc =[]\n",
        "for i in range(len(V1)):\n",
        "  prod_esc.append(V1[i]*V2[i])\n",
        "prod_esc2 = prod_esc[0]+ prod_esc[1]+ prod_esc[2]\n",
        "print(prod_esc2)"
      ],
      "metadata": {
        "colab": {
          "base_uri": "https://localhost:8080/"
        },
        "id": "gUDN1IwpAH01",
        "outputId": "7ac96dd0-03d4-4143-8b8e-f43877484a4b"
      },
      "execution_count": null,
      "outputs": [
        {
          "output_type": "stream",
          "name": "stdout",
          "text": [
            "5\n"
          ]
        }
      ]
    },
    {
      "cell_type": "code",
      "source": [
        "#otra solucion al anterior\n",
        "V1 = [1,2,3]\n",
        "V2 = [-1,0,2]\n",
        "prod_esc =[]\n",
        "for i in range(len(V1)):\n",
        "  prod_esc.append(V1[i]*V2[i])\n",
        "prod_esc2 = sum(prod_esc)\n",
        "print(prod_esc2)"
      ],
      "metadata": {
        "colab": {
          "base_uri": "https://localhost:8080/"
        },
        "id": "hGsdkrDoBsef",
        "outputId": "fa8d6d01-556d-4ff7-c5d6-f43eb69e6113"
      },
      "execution_count": null,
      "outputs": [
        {
          "output_type": "stream",
          "name": "stdout",
          "text": [
            "5\n"
          ]
        }
      ]
    },
    {
      "cell_type": "code",
      "source": [
        "#Escribir un programa que almacene las matrices\n",
        "  # A= (1 2 3\n",
        "  #      4 5 6)\n",
        "  \n",
        "  #B = (-1 0 \n",
        " #       0  1\n",
        " #       1 1)\n",
        " \n",
        "\n",
        "#en una lista y muestre por pantalla su producto.\n",
        "#Nota: Para representar matrices mediante listas usar listas anidadas, representando cada vector fila en una lista.\n",
        "\n",
        "#se representa A usando las filas\n",
        "Matriz_a = [[1,2,3],[4,5,6]]\n",
        "#se representa B usando las columnas\n",
        "Matriz_b = [[-1,0,1],[0,1,1]]\n",
        "elemento11 = []\n",
        "#primer fila A por primer columna B\n",
        "for i in range(3):\n",
        "  elemento11.append(Matriz_a[0][i]*Matriz_b[0][i])\n",
        "  elemento11_s=sum(elemento11)\n",
        "elemento12 = []\n",
        "#primer fila A por segunda columna B\n",
        "for i in range(3):\n",
        "  elemento12.append(Matriz_a[0][i]*Matriz_b[1][i])\n",
        "  elemento12_s=sum(elemento12)\n",
        "elemento21 = []\n",
        "#Segunda fila A por primer columna B\n",
        "for i in range(3):\n",
        "  elemento21.append(Matriz_a[1][i]*Matriz_b[0][i])\n",
        "  elemento21_s=sum(elemento21)\n",
        "elemento22 = []\n",
        "#Segunda fila A por segunda columna B\n",
        "for i in range(3):\n",
        "  elemento22.append(Matriz_a[1][i]*Matriz_b[1][i])\n",
        "  elemento22_s=sum(elemento22)\n",
        "print(elemento11_s,elemento12_s)\n",
        "print(elemento21_s,elemento22_s)"
      ],
      "metadata": {
        "id": "5YW1eoegHs-3",
        "colab": {
          "base_uri": "https://localhost:8080/"
        },
        "outputId": "f839bf6b-7892-4965-c826-8ff87a2816eb"
      },
      "execution_count": null,
      "outputs": [
        {
          "output_type": "stream",
          "name": "stdout",
          "text": [
            "2 5\n",
            "2 11\n"
          ]
        }
      ]
    },
    {
      "cell_type": "code",
      "source": [
        "#Escribir un programa que pregunte por una muestra de números, separados por comas, los guarde en una lista y muestre por pantalla su media y desviación típica.\n",
        "\n",
        "muestra=[] \n",
        "#el for es para pedir los datos de entrada\n",
        "for i in range(8):\n",
        "  datos_entrada =input(\"ingresa el numero: \")\n",
        "  datos_entrada=int(datos_entrada)\n",
        "  muestra.append(datos_entrada)\n",
        "#se calcula la media\n",
        "media= (sum(muestra))/len(muestra)\n",
        "print(\"la media es = \",media)\n",
        "#la funcion map es para iterar todos los elementos de la lista sin usar el bucle for y lambda es para hacer pequeñas funciones (como \"def\")\n",
        "potencias = list(map(lambda x: pow((x-media),2), muestra) )\n",
        "sum_pot = (sum(potencias)/8)\n",
        "#usamos pow para sacar raiz cuadrada\n",
        "Des_tip = pow(sum_pot,0.5)\n",
        "print(\"la desviación tipica es = \",\"{:.2f}\".format(Des_tip))\n",
        "\n"
      ],
      "metadata": {
        "colab": {
          "base_uri": "https://localhost:8080/"
        },
        "id": "zLDc28tzFDXZ",
        "outputId": "ee942699-aedb-40ec-860d-294d9a4a7601"
      },
      "execution_count": null,
      "outputs": [
        {
          "output_type": "stream",
          "name": "stdout",
          "text": [
            "ingresa el numero: 9\n",
            "ingresa el numero: 3\n",
            "ingresa el numero: 8\n",
            "ingresa el numero: 8\n",
            "ingresa el numero: 9\n",
            "ingresa el numero: 8\n",
            "ingresa el numero: 9\n",
            "ingresa el numero: 18\n",
            "la media es =  9.0\n",
            "la desviación tipica es =  3.87\n"
          ]
        }
      ]
    },
    {
      "cell_type": "code",
      "source": [
        "#usar map y lambda en vez de un bucle\n",
        "numeros = [2, 5, 10, 23, 50, 33]\n",
        "list( map(lambda x: x*2, numeros) )\n"
      ],
      "metadata": {
        "id": "08Grc3nNPH6T",
        "colab": {
          "base_uri": "https://localhost:8080/"
        },
        "outputId": "d0cd2d2a-b985-4130-ad44-00063da0da77"
      },
      "execution_count": null,
      "outputs": [
        {
          "output_type": "execute_result",
          "data": {
            "text/plain": [
              "[4, 10, 20, 46, 100, 66]"
            ]
          },
          "metadata": {},
          "execution_count": 9
        }
      ]
    },
    {
      "cell_type": "code",
      "source": [
        "#Escribir un programa que pregunte por una muestra de números, separados por comas, los guarde en una lista y muestre por pantalla su media y desviación típica.\n",
        "sample = input(\"Introduce una muestra de números separados por comas: \")\n",
        "sample = sample.split(',')\n",
        "n = len(sample)\n",
        "for i in range(n):\n",
        "    sample[i] = int(sample[i])\n",
        "sample = tuple(sample)\n",
        "sum = 0\n",
        "sumsq = 0\n",
        "for i in sample:\n",
        "    sum += i\n",
        "    sumsq += i**2\n",
        "mean = sum/n\n",
        "stdev = (sumsq/n-mean**2)**(1/2)\n",
        "print('La media es', mean, ', y la desviación típica es', stdev)"
      ],
      "metadata": {
        "id": "-Gt6bLLOaR_H"
      },
      "execution_count": null,
      "outputs": []
    }
  ]
}