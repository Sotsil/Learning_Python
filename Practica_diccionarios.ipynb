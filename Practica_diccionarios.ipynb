{
  "nbformat": 4,
  "nbformat_minor": 0,
  "metadata": {
    "colab": {
      "name": "Practica_diccionarios.ipynb",
      "provenance": [],
      "authorship_tag": "ABX9TyPusrYaM1ByMffeDhrbQicG",
      "include_colab_link": true
    },
    "kernelspec": {
      "name": "python3",
      "display_name": "Python 3"
    },
    "language_info": {
      "name": "python"
    }
  },
  "cells": [
    {
      "cell_type": "markdown",
      "metadata": {
        "id": "view-in-github",
        "colab_type": "text"
      },
      "source": [
        "<a href=\"https://colab.research.google.com/github/Sotsil/prueba2/blob/main/Practica_diccionarios.ipynb\" target=\"_parent\"><img src=\"https://colab.research.google.com/assets/colab-badge.svg\" alt=\"Open In Colab\"/></a>"
      ]
    },
    {
      "cell_type": "code",
      "execution_count": null,
      "metadata": {
        "colab": {
          "base_uri": "https://localhost:8080/"
        },
        "id": "wxxcWh9j-n4_",
        "outputId": "6a14f0b1-828e-46e4-b405-09b6f04d1b63"
      },
      "outputs": [
        {
          "output_type": "stream",
          "name": "stdout",
          "text": [
            "Escribe una divisa: peso\n",
            "la divisa no esta en el diccionario\n"
          ]
        }
      ],
      "source": [
        "#Escribir un programa que guarde en una variable el diccionario {'Euro':'€', 'Dollar':'$', 'Yen':'¥'}, \n",
        "#pregunte al usuario por una divisa y muestre su símbolo o un mensaje de aviso si la divisa no está en el diccionario.\n",
        "\n",
        "divisas = {'euro':'E',\n",
        "           'dolar':'S',\n",
        "           'yen':'Y'}\n",
        "pregunta = input(\"Escribe una divisa: \")\n",
        "if pregunta == \"euro\":\n",
        "  print (divisas['euro'])\n",
        "elif pregunta == \"dolar\":\n",
        "  print(divisas['dolar'])\n",
        "elif pregunta == \"yen\":\n",
        "  print (divisas['yen'])\n",
        "else:\n",
        "  print(\"la divisa no esta en el diccionario\")\n"
      ]
    },
    {
      "cell_type": "code",
      "source": [
        "#Escribir un programa que pregunte al usuario su nombre, edad, dirección y teléfono y lo guarde en un diccionario. \n",
        "#Después debe mostrar por pantalla el mensaje <nombre> tiene <edad> años, vive en <dirección> y su número de teléfono es <teléfono>.\n",
        "\n",
        "nombre = input(\"escribe tu nombre: \")\n",
        "edad = input(\"escribe tu edad: \")\n",
        "direcc = input(\"escribe tu direccion: \")\n",
        "telefono = input(\"escribe tu telefono: \")\n",
        "agenda = dict([(\"nombre\",nombre),(\"edad\",edad),(\"direccion\",direcc),(\"telefono\",telefono)])\n",
        "print(agenda[\"nombre\"], \"tiene\", agenda[\"edad\"],\"años,\",\"vive en\",agenda[\"direccion\"], \"su telefono es \",agenda[\"telefono\"])"
      ],
      "metadata": {
        "colab": {
          "base_uri": "https://localhost:8080/"
        },
        "id": "iRvsSNYUBv_u",
        "outputId": "daf5aad5-1cb3-401f-80e4-4dfef8fcabfc"
      },
      "execution_count": null,
      "outputs": [
        {
          "output_type": "stream",
          "name": "stdout",
          "text": [
            "escribe tu nombre: Sotsil\n",
            "escribe tu edad: 41\n",
            "escribe tu direccion: Cuernavaca\n",
            "escribe tu telefono: 5555101010\n",
            "Sotsil tiene 41 años, vive en Cuernavaca su telefono es  5555101010\n"
          ]
        }
      ]
    },
    {
      "cell_type": "code",
      "source": [
        "#Escribir un programa que guarde en un diccionario los precios de las frutas de la tabla, pregunte al usuario por una fruta,\n",
        "# un número de kilos y muestre por pantalla el precio de ese número de kilos de fruta. Si la fruta no está en el diccionario \n",
        "#debe mostrar un mensaje informando de ello.\n",
        "\n",
        "#Fruta\tPrecio\n",
        "#Plátano\t1.35\n",
        "#Manzana\t0.80\n",
        "#Pera\t0.85\n",
        "#Naranja\t0.70\n",
        "\n",
        "frutas = {\"platano\": 1.35,\n",
        "          \"manzana\":\t0.80,\n",
        "          \"pera\":\t0.85,\n",
        "          \"naranja\":0.70}\n",
        "seleccion= input(\"que fruta quieres?: \")\n",
        "cantidad = int(input(\"cuantos kilos deseas? \"))\n",
        "if seleccion == \"platano\":\n",
        "  print(\"el costo sera de \",frutas[\"platano\"]*cantidad)\n",
        "elif seleccion == \"manzana\":\n",
        "  print(\"el costo sera de \",frutas[\"manzana\"]*cantidad)\n",
        "elif seleccion == \"pera\":\n",
        "  print(\"el costo sera de \",frutas[\"pera\"]*cantidad)\n",
        "elif seleccion == \"naranja\":\n",
        "  print(\"el costo sera de \",frutas[\"naranja\"]*cantidad)\n",
        "else:\n",
        "  print(\"esa fruta no esta en la lista\")\n",
        "\n",
        "\n",
        "\n",
        "\n"
      ],
      "metadata": {
        "colab": {
          "base_uri": "https://localhost:8080/"
        },
        "id": "RrADx92RFWW7",
        "outputId": "38340aab-97ee-40d5-c972-df64e25e1141"
      },
      "execution_count": null,
      "outputs": [
        {
          "output_type": "stream",
          "name": "stdout",
          "text": [
            "que fruta quieres?: manzana\n",
            "cuantos kilos deseas? 2\n",
            "el costo sera de  1.6\n"
          ]
        }
      ]
    },
    {
      "cell_type": "code",
      "source": [
        "#otra solucion al anterior\n",
        "frutas = {'Plátano':1.35, 'Manzana':0.8, 'Pera':0.85, 'Naranja':0.7}\n",
        "fruta = input('¿Qué fruta quieres? ').title()\n",
        "kg = float(input('¿Cuántos kilos? '))\n",
        "if fruta in frutas:\n",
        "    print(kg, 'kilos de', fruta, 'valen', frutas[fruta]*kg, '€')\n",
        "else: \n",
        "    print(\"Lo siento, la fruta\", fruta, \"no está disponible.\")"
      ],
      "metadata": {
        "id": "0OiMjSCbIPxG"
      },
      "execution_count": null,
      "outputs": []
    },
    {
      "cell_type": "code",
      "source": [
        "#Escribir un programa que pregunte una fecha en formato dd/mm/aaaa y muestre por pantalla \n",
        "#la misma fecha en formato dd de <mes> de aaaa donde <mes> es el nombre del mes.\n",
        "\n",
        "meses = {\"01\":\"enero\", \"02\":\"febrero\",\"03\":\"marzo\", \"04\":\"abril\", \"05\":\"mayo\", \"06\":\"junio\", \n",
        "         \"07\":\"julio\", \"08\": \"agosto\", \"09\":\"septiembre\", \"10\":\"octubre\", \"11\":\"noviembre\",\"12\":\"diciembre\"}\n",
        "fecha = input(\"escribe una fecha en formato dd/mm/aaaa: \")\n",
        "fecha = fecha.split('/')\n",
        "Mes_selecc=fecha[1]\n",
        "print(fecha[0], \"de\", meses[Mes_selecc], \"de\", fecha[2])\n"
      ],
      "metadata": {
        "colab": {
          "base_uri": "https://localhost:8080/"
        },
        "id": "BfDAS6KYKvJU",
        "outputId": "13c6616d-3627-4546-90a4-07606de2798d"
      },
      "execution_count": null,
      "outputs": [
        {
          "output_type": "stream",
          "name": "stdout",
          "text": [
            "escribe una fecha en formato dd/mm/aaaa: 25/11/2021\n",
            "25 de noviembre de 2021\n"
          ]
        }
      ]
    },
    {
      "cell_type": "code",
      "source": [
        "#Escribir un programa que almacene el diccionario con los créditos de las asignaturas de un curso\n",
        "# {'Matemáticas': 6, 'Física': 4, 'Química': 5} y después muestre por pantalla los créditos de cada asignatura en el formato\n",
        "# <asignatura> tiene <créditos> créditos, donde <asignatura> es cada una de las asignaturas del curso, y <créditos> son sus créditos. \n",
        "#Al final debe mostrar también el número total de créditos del curso.\n",
        "materias = {\"matematicas\":6,\n",
        "            \"fisica\":4,\n",
        "            \"quimica\":5 }\n",
        "total = 0\n",
        "for i in materias.values():\n",
        "    total += i\n",
        "print(\"matematicas\",materias[\"matematicas\"], \"\\n\",\"Fisica\",materias[\"fisica\"],\"\\n\",\"qumica\",materias[\"quimica\"])\n",
        "print(\"los creditos del curso son: \",total)\n",
        "\n",
        "\n",
        "\n"
      ],
      "metadata": {
        "id": "ES6GK-TfN4NW",
        "colab": {
          "base_uri": "https://localhost:8080/"
        },
        "outputId": "d641cdbb-3bd5-4b03-90f1-f81ee141b246"
      },
      "execution_count": null,
      "outputs": [
        {
          "output_type": "stream",
          "name": "stdout",
          "text": [
            "matematicas 6 \n",
            " Fisica 4 \n",
            " qumica 5\n",
            "los creditos del curso son:  15\n"
          ]
        }
      ]
    },
    {
      "cell_type": "code",
      "source": [
        "#Escribir un programa que cree un diccionario vacío y lo vaya llenado con información sobre una persona \n",
        "#(por ejemplo nombre, edad, sexo, teléfono, correo electrónico, etc.) que se le pida al usuario. }\n",
        "#Cada vez que se añada un nuevo dato debe imprimirse el contenido del diccionario.\n",
        "informacion = { }\n",
        "nombre = input(\"cual es tu nombre? \")\n",
        "informacion[\"nombre\"]=nombre\n",
        "print(informacion)\n",
        "edad = input(\"cual es tu edad? \")\n",
        "informacion[\"edad\"]=edad\n",
        "print(informacion)\n",
        "sexo = input(\"sexo femenino o masculino? \")\n",
        "informacion[\"sexo\"]=sexo\n",
        "print(informacion)\n",
        "telefono = input(\"cual es tu telefono? \")\n",
        "informacion[\"telefono\"]=telefono\n",
        "print(informacion)\n",
        "\n"
      ],
      "metadata": {
        "colab": {
          "base_uri": "https://localhost:8080/"
        },
        "id": "7gzjegFN_PpR",
        "outputId": "de9ebc2f-1413-42b9-a4fc-6e68b076d4d8"
      },
      "execution_count": null,
      "outputs": [
        {
          "output_type": "stream",
          "name": "stdout",
          "text": [
            "cual es tu nombre? juan\n",
            "{'nombre': 'juan'}\n",
            "cual es tu edad? 45\n",
            "{'nombre': 'juan', 'edad': '45'}\n",
            "sexo femenino o masculino? masculino\n",
            "{'nombre': 'juan', 'edad': '45', 'sexo': 'masculino'}\n",
            "cual es tu telefono? 5510101010\n",
            "{'nombre': 'juan', 'edad': '45', 'sexo': 'masculino', 'telefono': '5510101010'}\n"
          ]
        }
      ]
    },
    {
      "cell_type": "code",
      "source": [
        "#Escribir un programa que cree un diccionario simulando una cesta de la compra. \n",
        "#El programa debe preguntar el artículo y su precio y añadir el par al diccionario, hasta que el usuario decida terminar. \n",
        "#Después se debe mostrar por pantalla la lista de la compra y el coste total, con el siguiente formato\n",
        "\n",
        "#Lista de la compra\t\n",
        "#Artículo 1\tPrecio\n",
        "#Artículo 2\tPrecio\n",
        "#Artículo 3\tPrecio\n",
        "#…\t…\n",
        "#Total\tCoste\n",
        "cesta ={ }\n",
        "opcion = \"s\"\n",
        "while opcion == \"s\":\n",
        "  articulo = input(\"cual es el articulo que quieres agregar? \") \n",
        "  precio = int(input(\"cual es su precio? \"))\n",
        "  cesta[articulo]=precio\n",
        "  opcion = input(\"escribe 's' si deseas agregar mas articulos o 'f' para finalizar: \")\n",
        "for articulo, precio in cesta.items():\n",
        "    print(articulo, '\\t', precio)\n",
        "print(\"el total de la compra es:\", sum(cesta.values()))\n",
        "\n"
      ],
      "metadata": {
        "colab": {
          "base_uri": "https://localhost:8080/"
        },
        "id": "el3hH1mrGciz",
        "outputId": "110ca077-8d8a-44d9-fdb7-d7b395820457"
      },
      "execution_count": null,
      "outputs": [
        {
          "output_type": "stream",
          "name": "stdout",
          "text": [
            "cual es el articulo que quieres agregar? jamon\n",
            "cual es su precio? 25\n",
            "escribe 's' si deseas agregar mas articulos o 'f' para finalizar: s\n",
            "cual es el articulo que quieres agregar? agua\n",
            "cual es su precio? 60\n",
            "escribe 's' si deseas agregar mas articulos o 'f' para finalizar: s\n",
            "cual es el articulo que quieres agregar? jabon\n",
            "cual es su precio? 40\n",
            "escribe 's' si deseas agregar mas articulos o 'f' para finalizar: f\n",
            "jamon \t 25\n",
            "agua \t 60\n",
            "jabon \t 40\n",
            "el total de la compra es: 125\n"
          ]
        }
      ]
    },
    {
      "cell_type": "code",
      "source": [
        "#Ejercicio 8: Escribir un programa que cree un diccionario de traducción español-inglés. El usuario introducirá\n",
        "# las palabras en español e inglés separadas por dos puntos, y cada par <palabra>:<traducción> separados por comas. \n",
        "#El programa debe crear un diccionario con las palabras y sus traducciones. Después pedirá una frase en español y \n",
        "#utilizará el diccionario para traducirla palabra a palabra. Si una palabra no está en el diccionario debe dejarla sin traducir.\n",
        "traducciones = {}\n",
        "palabras = input(\"Introduce la lista de palabras y traducciones en formato palabra:traducción separadas por comas: \")\n",
        "for i in palabras.split(','): #primero separa las palabras en pares\n",
        "    clave, valor = i.split(':') #ahora separa las palabras en keys y values\n",
        "    traducciones[clave] = valor\n",
        "frase = input('Introduce una frase en español: ')\n",
        "for i in frase.split(): #separa las palabras por espacios\n",
        "    if i in traducciones: #busca la palabra si se puede traducir\n",
        "        print(traducciones[i], end=' ') # imprime la traduccion\n",
        "    else:\n",
        "        print(i, end=' ')#imprime las palabras que no tiene traduccion]"
      ],
      "metadata": {
        "id": "c0sXNae4K7pe",
        "colab": {
          "base_uri": "https://localhost:8080/"
        },
        "outputId": "650b9456-b1a8-43ad-80e8-8f7d60bb51f6"
      },
      "execution_count": null,
      "outputs": [
        {
          "output_type": "stream",
          "name": "stdout",
          "text": [
            "Introduce la lista de palabras y traducciones en formato palabra:traducción separadas por comas: casa:house,perro:dog,rojo:red\n",
            "Introduce una frase en español: la casa roja tiene un perro\n",
            "la house roja tiene un dog "
          ]
        }
      ]
    },
    {
      "cell_type": "code",
      "source": [
        "#Escribir un programa que gestione las facturas pendientes de cobro de una empresa. \n",
        "#Las facturas se almacenarán en un diccionario donde la clave de cada factura será el número de factura \n",
        "#y el valor el coste de la factura. El programa debe preguntar al usuario si quiere añadir una nueva factura, \n",
        "#pagar una existente o terminar. Si desea añadir una nueva factura se preguntará por el número de factura y su coste y \n",
        "#se añadirá al diccionario. Si se desea pagar una factura se preguntará por el número de factura y se eliminará del diccionario.\n",
        "# Después de cada operación el programa debe mostrar por pantalla la cantidad cobrada hasta el momento y la cantidad pendiente de cobro.\n",
        "\n",
        "facturas={}\n",
        "opcion = \"f\"\n",
        "while opcion == \"f\":\n",
        "  folio = input(\"escribe el numero de factura: \")\n",
        "  monto = float(input(\"escribe el monto de la factura: \"))\n",
        "  facturas[folio]=monto\n",
        "  print(\"cantidad pendiente por cobrar: \",sum(facturas.values()))\n",
        "  opcion = input(\"escribe 'f' si deseas agregar una factura, 'p' si deseas pagar una factura o 't' para terminar: \")\n",
        "if opcion == \"p\":\n",
        "  while opcion == \"p\":\n",
        "    eliminar = input(\"escribe el numero de factura que deseas pagar: \")\n",
        "    print(\"Se cobro: $\",facturas[eliminar])\n",
        "    del facturas[eliminar]\n",
        "    print(\"cantidad pendiente por cobrar: \", sum(facturas.values()))\n",
        "    opcion = input(\"escribe 'p' si deseas pagar una factura o 't' para terminar: \")\n",
        "print(\"operacion terminada\")\n",
        "\n",
        "\n",
        "\n"
      ],
      "metadata": {
        "id": "sTLqWQGpYs5R",
        "colab": {
          "base_uri": "https://localhost:8080/"
        },
        "outputId": "9ea20686-3d4c-4eac-e9fc-d7bada9ee705"
      },
      "execution_count": null,
      "outputs": [
        {
          "output_type": "stream",
          "name": "stdout",
          "text": [
            "escribe el numero de factura: 2520\n",
            "escribe el monto de la factura: 800\n",
            "cantidad pendiente por cobrar:  800.0\n",
            "escribe 'f' si deseas agregar una factura, 'p' si deseas pagar una factura o 't' para terminar: f\n",
            "escribe el numero de factura: 2521\n",
            "escribe el monto de la factura: 1000\n",
            "cantidad pendiente por cobrar:  1800.0\n",
            "escribe 'f' si deseas agregar una factura, 'p' si deseas pagar una factura o 't' para terminar: p\n",
            "escribe el numero de factura que deseas pagar: 2521\n",
            "Se cobro: $ 1000.0\n",
            "cantidad pendiente por cobrar:  800.0\n",
            "escribe 'p' si deseas pagar una factura o 't' para terminar: p\n",
            "escribe el numero de factura que deseas pagar: 2520\n",
            "Se cobro: $ 800.0\n",
            "cantidad pendiente por cobrar:  0\n",
            "escribe 'p' si deseas pagar una factura o 't' para terminar: t\n",
            "operacion terminada\n"
          ]
        }
      ]
    },
    {
      "cell_type": "code",
      "source": [
        "#Escribir un programa que permita gestionar la base de datos de clientes de una empresa. \n",
        "#Los clientes se guardarán en un diccionario en el que la clave de cada cliente será su NIF, \n",
        "#y el valor será otro diccionario con los datos del cliente (nombre, dirección, teléfono, correo, preferente),\n",
        "# donde preferente tendrá el valor True si se trata de un cliente preferente. El programa debe preguntar \n",
        "#al usuario por una opción del siguiente menú:\n",
        "# (1) Añadir cliente, (2) Eliminar cliente, (3) Mostrar cliente, (4) Listar todos los clientes, (5) Listar clientes preferentes, (6) Terminar. \n",
        "#En función de la opción elegida el programa tendrá que hacer lo siguiente:\n",
        "\n",
        "#Preguntar los datos del cliente, crear un diccionario con los datos y añadirlo a la base de datos.\n",
        "#Preguntar por el NIF del cliente y eliminar sus datos de la base de datos.\n",
        "#Preguntar por el NIF del cliente y mostrar sus datos.\n",
        "#Mostrar lista de todos los clientes de la base datos con su NIF y nombre.\n",
        "#Mostrar la lista de clientes preferentes de la base de datos con su NIF y nombre.\n",
        "#Terminar el programa.\n",
        "\n",
        "#1 añadir cliente\n",
        "cliente = {}\n",
        "menu = \" \"\n",
        "while menu != \"6\":\n",
        "  if menu == \"1\":\n",
        "    NIF = input(\"cual es el NIF del cliente? \")\n",
        "    Nombre = input(\"cual es el nombre del cliente? \")\n",
        "    Domicilio = input(\"cual es la dierccion? \")\n",
        "    phone = input(\"cual es tu telefono' \")\n",
        "    preferente = input(\"es cliente preferente? \")\n",
        "    datos={\"Nombre\" : Nombre, \"preferente\" : preferente, \"Domicilio\" : Domicilio, \"phone\" : phone}\n",
        "    cliente[NIF] = datos\n",
        "    print(datos)\n",
        "  if menu == \"2\":\n",
        "    borrar = input(\"escribe el NIF del cliente que deseas eliminar: \")\n",
        "    del cliente[borrar]\n",
        "    print(cliente)\n",
        "  if menu == \"3\":\n",
        "    mostrar = input(\"escribe el NIF del cliente: \")\n",
        "    print(cliente[mostrar])\n",
        "  if menu == \"4\":\n",
        "    print(cliente.keys())\n",
        "  menu = input(\"seleccion una opcion: 1 : añadir cliente, 2: eliminar cliente, 3: mostrar cliente, 4: listar todos los clientes, 5: clientes preferente, 6: terminar\")\n",
        "\n",
        "\n",
        "\n",
        "\n",
        "\n"
      ],
      "metadata": {
        "id": "WcXecZbzgFBg",
        "colab": {
          "base_uri": "https://localhost:8080/",
          "height": 391
        },
        "outputId": "ddd9cf10-a460-424c-e25d-5b1f0ae5bb38"
      },
      "execution_count": null,
      "outputs": [
        {
          "name": "stdout",
          "output_type": "stream",
          "text": [
            "seleccion una opcion: 1 : añadir cliente, 2: eliminar cliente, 3: mostrar cliente, 4: listar todos los clientes, 5: clientes preferente, 6: terminar1\n",
            "cual es el NIF del cliente? 001\n",
            "cual es el nombre del cliente? JUAN\n",
            "cual es la dierccion? xxxx\n",
            "cual es tu telefono' 6666\n",
            "es cliente preferente? s\n",
            "{'Nombre': 'JUAN', 'preferente': 's', 'Domicilio': 'xxxx', 'phone': '6666'}\n",
            "seleccion una opcion: 1 : añadir cliente, 2: eliminar cliente, 3: mostrar cliente, 4: listar todos los clientes, 5: clientes preferente, 6: terminar2\n",
            "escribe el NIF del cliente que deseas eliminar: 222\n"
          ]
        },
        {
          "output_type": "error",
          "ename": "KeyError",
          "evalue": "ignored",
          "traceback": [
            "\u001b[0;31m---------------------------------------------------------------------------\u001b[0m",
            "\u001b[0;31mKeyError\u001b[0m                                  Traceback (most recent call last)",
            "\u001b[0;32m<ipython-input-5-a948c20f10f9>\u001b[0m in \u001b[0;36m<module>\u001b[0;34m()\u001b[0m\n\u001b[1;32m     29\u001b[0m   \u001b[0;32mif\u001b[0m \u001b[0mmenu\u001b[0m \u001b[0;34m==\u001b[0m \u001b[0;34m\"2\"\u001b[0m\u001b[0;34m:\u001b[0m\u001b[0;34m\u001b[0m\u001b[0;34m\u001b[0m\u001b[0m\n\u001b[1;32m     30\u001b[0m     \u001b[0mborrar\u001b[0m \u001b[0;34m=\u001b[0m \u001b[0minput\u001b[0m\u001b[0;34m(\u001b[0m\u001b[0;34m\"escribe el NIF del cliente que deseas eliminar: \"\u001b[0m\u001b[0;34m)\u001b[0m\u001b[0;34m\u001b[0m\u001b[0;34m\u001b[0m\u001b[0m\n\u001b[0;32m---> 31\u001b[0;31m     \u001b[0;32mdel\u001b[0m \u001b[0mcliente\u001b[0m\u001b[0;34m[\u001b[0m\u001b[0mborrar\u001b[0m\u001b[0;34m]\u001b[0m\u001b[0;34m\u001b[0m\u001b[0;34m\u001b[0m\u001b[0m\n\u001b[0m\u001b[1;32m     32\u001b[0m     \u001b[0mprint\u001b[0m\u001b[0;34m(\u001b[0m\u001b[0mcliente\u001b[0m\u001b[0;34m)\u001b[0m\u001b[0;34m\u001b[0m\u001b[0;34m\u001b[0m\u001b[0m\n\u001b[1;32m     33\u001b[0m   \u001b[0;32mif\u001b[0m \u001b[0mmenu\u001b[0m \u001b[0;34m==\u001b[0m \u001b[0;34m\"3\"\u001b[0m\u001b[0;34m:\u001b[0m\u001b[0;34m\u001b[0m\u001b[0;34m\u001b[0m\u001b[0m\n",
            "\u001b[0;31mKeyError\u001b[0m: '222'"
          ]
        }
      ]
    },
    {
      "cell_type": "code",
      "source": [
        ""
      ],
      "metadata": {
        "id": "XZbShiEIJUrn"
      },
      "execution_count": null,
      "outputs": []
    }
  ]
}