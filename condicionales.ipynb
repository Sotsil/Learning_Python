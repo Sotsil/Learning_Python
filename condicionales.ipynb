{
  "nbformat": 4,
  "nbformat_minor": 0,
  "metadata": {
    "colab": {
      "name": "p3_condicionales.ipynb",
      "provenance": [],
      "collapsed_sections": [],
      "authorship_tag": "ABX9TyOWAXpuzWUcwrdwVmhZhVIY",
      "include_colab_link": true
    },
    "kernelspec": {
      "name": "python3",
      "display_name": "Python 3"
    },
    "language_info": {
      "name": "python"
    }
  },
  "cells": [
    {
      "cell_type": "markdown",
      "metadata": {
        "id": "view-in-github",
        "colab_type": "text"
      },
      "source": [
        "<a href=\"https://colab.research.google.com/github/Sotsil/prueba2/blob/main/condicionales.ipynb\" target=\"_parent\"><img src=\"https://colab.research.google.com/assets/colab-badge.svg\" alt=\"Open In Colab\"/></a>"
      ]
    },
    {
      "cell_type": "code",
      "execution_count": null,
      "metadata": {
        "colab": {
          "base_uri": "https://localhost:8080/"
        },
        "id": "tylIfCN2Vaj-",
        "outputId": "3783dc90-5523-4aaa-d906-1b9efb777938"
      },
      "outputs": [
        {
          "output_type": "stream",
          "name": "stdout",
          "text": [
            "cual es tu edad? 10\n",
            "eres menor de edad\n"
          ]
        }
      ],
      "source": [
        "#Escribir un programa que pregunte al usuario su edad y muestre por pantalla si es mayor de edad o no.\n",
        "edad = int(input(\"cual es tu edad? \"))\n",
        "if (edad >= 18):\n",
        "  print(\"Eres mayor de edad\")\n",
        "else:\n",
        "  print(\"eres menor de edad\")\n"
      ]
    },
    {
      "cell_type": "code",
      "source": [
        "#Escribir un programa que almacene la cadena de caracteres contraseña en una variable, \n",
        "#pregunte al usuario por la contraseña e imprima por pantalla si la contraseña introducida por el usuario coincide \n",
        "#con la guardada en la variable sin tener en cuenta mayúsculas y minúsculas.\n",
        "\n",
        "contraseña = \"jupyter\"\n",
        "entrada = input(\"cual es la contraseñ? \")\n",
        "entrada2=entrada.lower()\n",
        "if (entrada2 == contraseña):\n",
        "  print(\"la contraseña es valida\")\n",
        "else:\n",
        "  print(\"contraseña incorrecta\")\n",
        "\n"
      ],
      "metadata": {
        "colab": {
          "base_uri": "https://localhost:8080/"
        },
        "id": "N4pUzPqMWnBJ",
        "outputId": "328dc419-2a72-48b2-d4a7-3d554d784309"
      },
      "execution_count": null,
      "outputs": [
        {
          "output_type": "stream",
          "name": "stdout",
          "text": [
            "cual es la contraseñ? JUPYTER\n",
            "la contraseña es valida\n"
          ]
        }
      ]
    },
    {
      "cell_type": "code",
      "source": [
        "#Escribir un programa que pida al usuario dos números y muestre por pantalla su división. \n",
        "#Si el divisor es cero el programa debe mostrar un error.\n",
        "dividendo = int(input(\"cual es el dividendo? \"))\n",
        "divisor = int(input(\"cual es el divisor? \"))\n",
        "if (divisor != 0):\n",
        "  div = dividendo/divisor\n",
        "  print(\"el resultad es: \",div)\n",
        "else:\n",
        "  print(\"la division entre 0 no es posible\")\n"
      ],
      "metadata": {
        "colab": {
          "base_uri": "https://localhost:8080/"
        },
        "id": "BCCL639oX0R-",
        "outputId": "522dfb7d-b24f-41dc-bd24-39d04dd9e876"
      },
      "execution_count": null,
      "outputs": [
        {
          "output_type": "stream",
          "name": "stdout",
          "text": [
            "cual es el dividendo? 10\n",
            "cual es el divisor? 0\n",
            "la division entre 0 no es posible\n"
          ]
        }
      ]
    },
    {
      "cell_type": "code",
      "source": [
        "#Escribir un programa que pida al usuario un número entero y muestre por pantalla si es par o impar.\n",
        "num = int(input(\"escribe un numero: \"))\n",
        "if ((num % 2) != 0 ):\n",
        "  print(\"es un numero impar\")\n",
        "else:\n",
        "  print(\"es un numero par\")"
      ],
      "metadata": {
        "colab": {
          "base_uri": "https://localhost:8080/"
        },
        "id": "g3U7ymkhaBN4",
        "outputId": "b6a54e93-d196-4286-d63a-b20ffaa37c3f"
      },
      "execution_count": null,
      "outputs": [
        {
          "output_type": "stream",
          "name": "stdout",
          "text": [
            "escribe un numero: 319\n",
            "es un numero impar\n"
          ]
        }
      ]
    },
    {
      "cell_type": "code",
      "source": [
        "#Para tributar un determinado impuesto se debe ser mayor de 16 años y tener unos ingresos iguales o superiores a 1000 € mensuales. \n",
        "#Escribir un programa que pregunte al usuario su edad y sus ingresos mensuales y muestre por pantalla si el usuario tiene que tributar o no.\n",
        "edad_contribuyente = int(input(\"cual es tu edad? \"))\n",
        "ingreso = int(input(\"cual es tu ingreso? \"))\n",
        "if ((edad_contribuyente > 16) and (ingreso >= 1000)):\n",
        "  print(\"Tienes que tributar.\")\n",
        "else:\n",
        "  print(\"No tienes que tributar.\")\n"
      ],
      "metadata": {
        "colab": {
          "base_uri": "https://localhost:8080/"
        },
        "id": "AaQywWtybU1s",
        "outputId": "7b2cebbd-d66a-4935-fd81-f9cdba5fb2f0"
      },
      "execution_count": null,
      "outputs": [
        {
          "output_type": "stream",
          "name": "stdout",
          "text": [
            "cual es tu edad? 17\n",
            "cual es tu ingreso? 1500\n",
            "Tienes que tributar.\n"
          ]
        }
      ]
    },
    {
      "cell_type": "code",
      "source": [
        "#Los alumnos de un curso se han dividido en dos grupos A y B de acuerdo al sexo y el nombre. \n",
        "#El grupo A esta formado por las mujeres con un nombre anterior a la M y los hombres con un nombre posterior \n",
        "#a la N y el grupo B por el resto. Escribir un programa que pregunte al usuario su nombre y sexo, y muestre por pantalla el grupo que le corresponde.\n",
        "name = input(\"¿Cómo te llamas? \")\n",
        "gender = input(\"¿Cuál es tu sexo (M o H)? \")\n",
        "if gender == \"M\":\n",
        "    if name.lower() < \"m\":\n",
        "        group = \"A\"\n",
        "    else:\n",
        "        group = \"B\"\n",
        "else:\n",
        "    if name.lower() > \"n\":\n",
        "        group = \"A\"\n",
        "    else:\n",
        "        group = \"B\"\n",
        "print(\"Tu grupo es \" + group)\n"
      ],
      "metadata": {
        "colab": {
          "base_uri": "https://localhost:8080/"
        },
        "id": "Xagf0xq_dCPK",
        "outputId": "4498910e-9bd9-4e91-cd93-eaefee5acbd1"
      },
      "execution_count": null,
      "outputs": [
        {
          "output_type": "stream",
          "name": "stdout",
          "text": [
            "¿Cómo te llamas? juan\n",
            "¿Cuál es tu sexo (M o H)? h\n",
            "Tu grupo es B\n"
          ]
        }
      ]
    },
    {
      "cell_type": "code",
      "source": [
        "#Los tramos impositivos para la declaración de la renta en un determinado país son los siguientes:\n",
        "# renta\tTipo impositivo\n",
        "# Menos de 10000€\t      5%\n",
        "# Entre 10000€ y 20000€\t15%\n",
        "# Entre 20000€ y 35000€\t20%\n",
        "# Entre 35000€ y 60000€\t30%\n",
        "# Más de 60000€       \t45%\n",
        "\n",
        "#Escribir un programa que pregunte al usuario su renta anual y muestre por pantalla el tipo impositivo que le corresponde.\n",
        "\n",
        "renta = int(input(\"Cual es tu renta anual? \"))\n",
        "if renta < 10000:\n",
        "  print(\"Tipo impositivo del 5%\")\n",
        "if renta >= 1000 and renta < 20000:\n",
        "  print(\" Tipo impositivo del 15% \")\n",
        "if renta >= 20000  and renta < 35000:\n",
        "  print(\"impositivo del 20%\")\n",
        "if  renta >= 35000 and renta <= 60000:\n",
        "  print(\"impositivo del 30% \")\n",
        "if renta > 60000:\n",
        "    print(\"impositivo del 45% \")\n"
      ],
      "metadata": {
        "id": "iZB69zC0f2Pj",
        "colab": {
          "base_uri": "https://localhost:8080/"
        },
        "outputId": "b1d84954-0a56-4f4a-ba52-6f719edc829c"
      },
      "execution_count": null,
      "outputs": [
        {
          "output_type": "stream",
          "name": "stdout",
          "text": [
            "Cual es tu renta anual? 65000\n",
            "impositivo del 45% \n"
          ]
        }
      ]
    },
    {
      "cell_type": "code",
      "source": [
        "# Preguntar al usuario por la renta\n",
        "renta = float(input(\"¿Cuál es tu renta anual? \"))\n",
        "# Condicional para determinar el tipo impositivo dependiendo de la renta\n",
        "if renta < 10000:\n",
        "    tipo = 5\n",
        "elif renta < 20000:\n",
        "    tipo = 15\n",
        "elif renta < 35000:\n",
        "    tipo = 20\n",
        "elif renta < 60000:\n",
        "    tipo = 30\n",
        "else:\n",
        "    tipo = 45\n",
        "# Mostrar por pantalla el producto de la renta por el tipo impositivo\n",
        "print(\"Tienes que pagar \", renta * tipo / 100, \"€\", sep='')"
      ],
      "metadata": {
        "colab": {
          "base_uri": "https://localhost:8080/"
        },
        "id": "SDLCsoh2zftM",
        "outputId": "65df41a5-d547-4e26-a75d-ba77df24983d"
      },
      "execution_count": null,
      "outputs": [
        {
          "output_type": "stream",
          "name": "stdout",
          "text": [
            "¿Cuál es tu renta anual? 28000\n",
            "Tienes que pagar 5600.0€\n"
          ]
        }
      ]
    },
    {
      "cell_type": "code",
      "source": [
        "#En una determinada empresa, sus empleados son evaluados al final de cada año. Los puntos que pueden obtener en la evaluación\n",
        "# comienzan en 0.0 y pueden ir aumentando, traduciéndose en mejores beneficios. Los puntos que pueden conseguir los \n",
        "#empleados pueden ser 0.0, 0.4, 0.6 o más, pero no valores intermedios entre las cifras mencionadas. \n",
        "#A continuación se muestra una tabla con los niveles correspondientes a cada puntuación. La cantidad de dinero conseguida\n",
        "# en cada nivel es de 2.400€ multiplicada por la puntuación del nivel.\n",
        "\n",
        "#Nivel\tPuntuación\n",
        "#Inaceptable\t0.0\n",
        "#Aceptable\t0.4\n",
        "#Meritorio\t0.6 o más\n",
        "#Escribir un programa que lea la puntuación del usuario e indique su nivel de rendimiento, así como la cantidad de dinero que recibirá el usuario.\n",
        "\n",
        "\n",
        "puntos = float(input(\"cual es la puntuacion del trabajador' \"))\n",
        "if puntos==0.0:\n",
        "  print(\"la puntuacion es inaceptable\")\n",
        "elif puntos ==0.4:\n",
        "  print(\"el nivel es acpetable, tu retrubucion sera de \", 2400*0.4)\n",
        "elif puntos >= 0.6:\n",
        "  print(\"el nivel es meritorio, tu retribucion sera de \", 2400*puntos)\n",
        "else:\n",
        "    print(\"Esta puntuación no es válida\")"
      ],
      "metadata": {
        "id": "3_GIckmw0BeK",
        "colab": {
          "base_uri": "https://localhost:8080/"
        },
        "outputId": "5bae63b9-8f60-46b2-8235-7ac46bf4d081"
      },
      "execution_count": null,
      "outputs": [
        {
          "output_type": "stream",
          "name": "stdout",
          "text": [
            "cual es la puntuacion del trabajador' 45\n",
            "el nivel es meritorio, tu retribucion sera de  108000.0\n"
          ]
        }
      ]
    },
    {
      "cell_type": "code",
      "source": [
        "#Escribir un programa para una empresa que tiene salas de juegos para todas las edades y quiere calcular de forma automática \n",
        "#el precio que debe cobrar a sus clientes por entrar. El programa debe preguntar al usuario la edad del cliente y mostrar el \n",
        "#precio de la entrada. Si el cliente es menor de 4 años puede entrar gratis, si tiene entre 4 y 18 años debe pagar 5€ y si es mayor de 18 años, 10€.\n",
        "\n",
        "cliente_edad = int(input(\"edad del cliente? \"))\n",
        "if 4 <= cliente_edad <= 18:\n",
        "  print(\"5 euros\")\n",
        "elif cliente_edad >18:\n",
        "  print(\"10 euros\")\n",
        "else:\n",
        "  print(\"gratis\")"
      ],
      "metadata": {
        "colab": {
          "base_uri": "https://localhost:8080/"
        },
        "id": "yMyEMwlC-Cie",
        "outputId": "900ba448-116b-459f-d7af-35aa1a0f9baa"
      },
      "execution_count": null,
      "outputs": [
        {
          "output_type": "stream",
          "name": "stdout",
          "text": [
            "edad del cliente? 20\n",
            "10 euros\n"
          ]
        }
      ]
    },
    {
      "cell_type": "code",
      "source": [
        "#La pizzería Bella Napoli ofrece pizzas vegetarianas y no vegetarianas a sus clientes. Los ingredientes para cada tipo de pizza aparecen a continuación.\n",
        "\n",
        "#Ingredientes vegetarianos: Pimiento y tofu.\n",
        "#Ingredientes no vegetarianos: Peperoni, Jamón y Salmón.\n",
        "#Escribir un programa que pregunte al usuario si quiere una pizza vegetariana o no, y en función de su respuesta le muestre un menú con los ingredientes \n",
        "#disponibles para que elija. Solo se puede eligir un ingrediente además de la mozzarella y el tomate que están en todas la pizzas. \n",
        "#Al final se debe mostrar por pantalla si la pizza elegida es vegetariana o no y todos los ingredientes que lleva.\n",
        "tipo_pizza = input(\"escribe 'veg' para vegetariana o 'meat' para carnes: \" )\n",
        "if tipo_pizza == \"veg\":\n",
        "  selec1= input(\"elige un ingrediente: pimiento o tofu \")\n",
        "  print(\"pizza vegetariana con mozarella, tomate y \",selec1)\n",
        "elif tipo_pizza == \"meat\":\n",
        "  selec2= input(\"elige un ingrediente:peperoni, jamon o salmon \")\n",
        "  print(\"pizza de carnes con mozarella, tomate y \",selec2)\n",
        "else:\n",
        "  print(\"seleccion incorrecta\")\n",
        "\n",
        "\n"
      ],
      "metadata": {
        "colab": {
          "base_uri": "https://localhost:8080/"
        },
        "id": "7t7TT-1fATLA",
        "outputId": "3ee3ab00-a6d7-4d2e-9118-e2f118e0aff9"
      },
      "execution_count": null,
      "outputs": [
        {
          "output_type": "stream",
          "name": "stdout",
          "text": [
            "escribe 'veg' para vegetariana o 'meat' para carnes: veg\n",
            "elige un ingrediente: pimiento o tofu tofu\n",
            "pizza vegetariana con mozarella, tomate y  tofu\n"
          ]
        }
      ]
    },
    {
      "cell_type": "code",
      "source": [
        ""
      ],
      "metadata": {
        "id": "RkKPCjjkCgMx"
      },
      "execution_count": null,
      "outputs": []
    },
    {
      "cell_type": "markdown",
      "source": [
        ""
      ],
      "metadata": {
        "id": "d7wlDjR5CfSK"
      }
    }
  ]
}